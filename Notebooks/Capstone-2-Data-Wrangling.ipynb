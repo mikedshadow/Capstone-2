{
 "cells": [
  {
   "cell_type": "code",
   "execution_count": 41,
   "id": "9d44e517",
   "metadata": {},
   "outputs": [
    {
     "name": "stdout",
     "output_type": "stream",
     "text": [
      "  Symbol                 Name                  Sector   Price  Price/Earnings  \\\n",
      "0    MMM           3M Company             Industrials  222.89           24.31   \n",
      "1    AOS      A.O. Smith Corp             Industrials   60.24           27.76   \n",
      "2    ABT  Abbott Laboratories             Health Care   56.27           22.51   \n",
      "3   ABBV          AbbVie Inc.             Health Care  108.48           19.41   \n",
      "4    ACN        Accenture plc  Information Technology  150.51           25.47   \n",
      "\n",
      "   Dividend Yield  Earnings/Share  52 Week Low  52 Week High    Market Cap  \\\n",
      "0        2.332862            7.92       259.77       175.490  1.387211e+11   \n",
      "1        1.147959            1.70        68.39        48.925  1.078342e+10   \n",
      "2        1.908982            0.26        64.60        42.280  1.021210e+11   \n",
      "3        2.499560            3.29       125.86        60.050  1.813863e+11   \n",
      "4        1.714470            5.44       162.60       114.820  9.876586e+10   \n",
      "\n",
      "         EBITDA  Price/Sales  Price/Book  \\\n",
      "0  9.048000e+09     4.390271       11.34   \n",
      "1  6.010000e+08     3.575483        6.35   \n",
      "2  5.744000e+09     3.740480        3.19   \n",
      "3  1.031000e+10     6.291571       26.14   \n",
      "4  5.643228e+09     2.604117       10.62   \n",
      "\n",
      "                                         SEC Filings  \n",
      "0  http://www.sec.gov/cgi-bin/browse-edgar?action...  \n",
      "1  http://www.sec.gov/cgi-bin/browse-edgar?action...  \n",
      "2  http://www.sec.gov/cgi-bin/browse-edgar?action...  \n",
      "3  http://www.sec.gov/cgi-bin/browse-edgar?action...  \n",
      "4  http://www.sec.gov/cgi-bin/browse-edgar?action...  \n"
     ]
    }
   ],
   "source": [
    "import os\n",
    "import pandas as pd\n",
    "\n",
    "df= pd.read_csv('..\\\\Data\\\\financials.csv')\n",
    "\n",
    "print(df.head())"
   ]
  },
  {
   "cell_type": "code",
   "execution_count": 42,
   "id": "dd75d08c",
   "metadata": {
    "scrolled": true
   },
   "outputs": [
    {
     "name": "stdout",
     "output_type": "stream",
     "text": [
      "<class 'pandas.core.frame.DataFrame'>\n",
      "RangeIndex: 249 entries, 0 to 248\n",
      "Data columns (total 16 columns):\n",
      " #   Column                 Non-Null Count  Dtype  \n",
      "---  ------                 --------------  -----  \n",
      " 0   Year                   249 non-null    int64  \n",
      " 1   Brand                  249 non-null    object \n",
      " 2   Superbowl Ads Link     249 non-null    object \n",
      " 3   Youtube Link           240 non-null    object \n",
      " 4   Funny                  249 non-null    bool   \n",
      " 5   Shows Product Quickly  249 non-null    bool   \n",
      " 6   Patriotic              249 non-null    bool   \n",
      " 7   Celebrity              249 non-null    bool   \n",
      " 8   Danger                 249 non-null    bool   \n",
      " 9   Animals                249 non-null    bool   \n",
      " 10  Uses Sex               249 non-null    bool   \n",
      " 11  Length                 249 non-null    int64  \n",
      " 12  Estimated Cost         249 non-null    float64\n",
      " 13  Youtube Views          237 non-null    float64\n",
      " 14  Youtube Likes          231 non-null    float64\n",
      " 15  TV Viewers             249 non-null    float64\n",
      "dtypes: bool(7), float64(4), int64(2), object(3)\n",
      "memory usage: 19.3+ KB\n",
      "None\n"
     ]
    }
   ],
   "source": [
    "df2 = pd.read_csv('..\\\\Data\\\\superbowl_commercials.csv')\n",
    "\n",
    "print(df2.info())"
   ]
  },
  {
   "cell_type": "code",
   "execution_count": 43,
   "id": "864384d5",
   "metadata": {},
   "outputs": [
    {
     "name": "stdout",
     "output_type": "stream",
     "text": [
      "             Date         SB                Winner Pts                Loser  \\\n",
      "0  \\nFeb 12, 2023  LVII (57)    Kansas City Chiefs  38  Philadelphia Eagles   \n",
      "1  \\nFeb 13, 2022   LVI (56)      Los Angeles Rams  23   Cincinnati Bengals   \n",
      "2   \\nFeb 7, 2021    LV (55)  Tampa Bay Buccaneers  31   Kansas City Chiefs   \n",
      "3   \\nFeb 2, 2020   LIV (54)    Kansas City Chiefs  31  San Francisco 49ers   \n",
      "4   \\nFeb 3, 2019  LIII (53)  New England Patriots  13     Los Angeles Rams   \n",
      "\n",
      "  Pts.1              MVP                Stadium           City       State  \n",
      "0    35  Patrick Mahomes     State Farm Stadium       Glendale     Arizona  \n",
      "1    20      Cooper Kupp           SoFi Stadium      Inglewood  California  \n",
      "2     9        Tom Brady  Raymond James Stadium          Tampa     Florida  \n",
      "3    20  Patrick Mahomes      Hard Rock Stadium  Miami Gardens     Florida  \n",
      "4     3   Julian Edelman  Mercedes-Benz Stadium        Atlanta     Georgia  \n"
     ]
    }
   ],
   "source": [
    "df3 = pd.read_csv('..\\\\Data\\\\superbowls.txt', sep='\\t', lineterminator='\\r')\n",
    "# Text file scraped from https://www.pro-football-reference.com/super-bowl/\n",
    "print(df3.head())"
   ]
  },
  {
   "cell_type": "code",
   "execution_count": 44,
   "id": "c5fc01af",
   "metadata": {},
   "outputs": [
    {
     "name": "stdout",
     "output_type": "stream",
     "text": [
      "     Year Product Type                             Product/Title  \\\n",
      "191  2008         Beer                        Bud Light\"Cavemen\"   \n",
      "192  2008         Beer                       Budweiser\"Training\"   \n",
      "193  2008          Car                       Audi\"The Godfather\"   \n",
      "194  2008         Film                                  Iron Man   \n",
      "195  2008         Film                                    Jumper   \n",
      "196  2008         Film  The Chronicles of Narnia: Prince Caspian   \n",
      "197  2008         Film                                    Wanted   \n",
      "198  2008         Film             You Don't Mess with the Zohan   \n",
      "199  2008   Soft drink                      Coca-Cola\"It's Mine\"   \n",
      "200  2008   Soft drink                            SoBe\"Thriller\"   \n",
      "201  2008      Website                             E*Trade\"Baby\"   \n",
      "202  2008      Website                            E*Trade\"Clown\"   \n",
      "\n",
      "                                            Plot/Notes  \n",
      "191  Three cavemen are trying to carry a cooler of ...  \n",
      "192  For the Budweiser Clydesdales this year, Hank ...  \n",
      "193  Spoofing The Godfather, the horse's head is re...  \n",
      "194                                          TV promo.  \n",
      "195                                          TV promo.  \n",
      "196                                          TV promo.  \n",
      "197                                          TV promo.  \n",
      "198                                          TV promo.  \n",
      "199  At the Macy's Thanksgiving Day Parade, the Und...  \n",
      "200  Naomi Campbell and lizards do the famous Thril...  \n",
      "201  The birth of the E*Trade baby, the baby explai...  \n",
      "202  The E*Trade Baby has rented a clown with his s...  \n"
     ]
    }
   ],
   "source": [
    "df4 = pd.read_csv('..\\\\Data\\\\superbowl-ads.csv')\n",
    "# This was cleaned up from Kaggle https://www.kaggle.com/datasets/prondeau/superbowlads\n",
    "print(df4[df4.Year==\"2008\"])"
   ]
  },
  {
   "cell_type": "code",
   "execution_count": 45,
   "id": "c713f970",
   "metadata": {},
   "outputs": [
    {
     "name": "stdout",
     "output_type": "stream",
     "text": [
      "             Company\\Brand  Ads            Industry  Latest First  Links\n",
      "0   \\n21st Century Studios   14              Movies    2019  1994    NaN\n",
      "1                   \\n7 Up   11         Soft Drinks    2001  1992    NaN\n",
      "2            \\n  Diet 7 Up    3         Soft Drinks    1992    --    NaN\n",
      "3              \\n84 Lumber    1   Building Supplies    2017    --    NaN\n",
      "4              \\nAccenture    4          Technology    2001    --    NaN\n",
      "5                  \\nAcura    3         Automobiles    2016  2001    NaN\n",
      "6            \\n  Acura MDX    1                SUVs    2001    --    NaN\n",
      "7            \\n  Acura NSX    2         Sports Cars    2016  2012    NaN\n",
      "8                    \\nADT    2       Home Security    2020  2019    NaN\n",
      "9                  \\nAdvil    5         Pain Relief    2016  1985    NaN\n",
      "10                 \\nAflac    1           Insurance    2017    --    NaN\n",
      "11                \\nAirbnb    1  Internet Companies    2017    --    NaN\n",
      "12                 \\nAlamo    2         Rental Cars    1994  1988    NaN\n",
      "13                 \\nAleve    1         Pain Relief    2006    --    NaN\n",
      "14            \\nAlfa Romeo    3                Cars    2017    --    NaN\n",
      "15          \\nAlka Seltzer    1                 NaN    1991    --    NaN\n",
      "16    \\nAllstate Insurance    6           Insurance    2016  1987    NaN\n",
      "17            \\n  Esurance    4           Insurance    2016  2015    NaN\n",
      "18                \\nAlways    1     Health & Beauty    2015    --    NaN\n",
      "19  \\nAmazon Retail Brands    9    Online Retailers    2021  2016    NaN\n"
     ]
    }
   ],
   "source": [
    "df5 = pd.read_csv('..\\\\Data\\\\advertisers.txt', sep='\\t', lineterminator='\\r')\n",
    "# Text file scraped from http://superadsdb.com/advertisers\n",
    "print(df5.head(20))"
   ]
  },
  {
   "cell_type": "code",
   "execution_count": null,
   "id": "d069d5be",
   "metadata": {},
   "outputs": [],
   "source": []
  }
 ],
 "metadata": {
  "kernelspec": {
   "display_name": "Python [conda env:snakes]",
   "language": "python",
   "name": "conda-env-snakes-py"
  },
  "language_info": {
   "codemirror_mode": {
    "name": "ipython",
    "version": 3
   },
   "file_extension": ".py",
   "mimetype": "text/x-python",
   "name": "python",
   "nbconvert_exporter": "python",
   "pygments_lexer": "ipython3",
   "version": "3.9.16"
  }
 },
 "nbformat": 4,
 "nbformat_minor": 5
}
