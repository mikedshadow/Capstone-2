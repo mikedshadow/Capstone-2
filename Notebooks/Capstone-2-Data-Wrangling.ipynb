{
 "cells": [
  {
   "cell_type": "code",
   "execution_count": 166,
   "id": "9d44e517",
   "metadata": {},
   "outputs": [
    {
     "name": "stdout",
     "output_type": "stream",
     "text": [
      "  Symbol                 Name                  Sector   Price  Price/Earnings  \\\n",
      "0    MMM           3M Company             Industrials  222.89           24.31   \n",
      "1    AOS      A.O. Smith Corp             Industrials   60.24           27.76   \n",
      "2    ABT  Abbott Laboratories             Health Care   56.27           22.51   \n",
      "3   ABBV          AbbVie Inc.             Health Care  108.48           19.41   \n",
      "4    ACN        Accenture plc  Information Technology  150.51           25.47   \n",
      "\n",
      "   Dividend Yield  Earnings/Share  52 Week Low  52 Week High    Market Cap  \\\n",
      "0        2.332862            7.92       259.77       175.490  1.387211e+11   \n",
      "1        1.147959            1.70        68.39        48.925  1.078342e+10   \n",
      "2        1.908982            0.26        64.60        42.280  1.021210e+11   \n",
      "3        2.499560            3.29       125.86        60.050  1.813863e+11   \n",
      "4        1.714470            5.44       162.60       114.820  9.876586e+10   \n",
      "\n",
      "         EBITDA  Price/Sales  Price/Book  \\\n",
      "0  9.048000e+09     4.390271       11.34   \n",
      "1  6.010000e+08     3.575483        6.35   \n",
      "2  5.744000e+09     3.740480        3.19   \n",
      "3  1.031000e+10     6.291571       26.14   \n",
      "4  5.643228e+09     2.604117       10.62   \n",
      "\n",
      "                                         SEC Filings  \n",
      "0  http://www.sec.gov/cgi-bin/browse-edgar?action...  \n",
      "1  http://www.sec.gov/cgi-bin/browse-edgar?action...  \n",
      "2  http://www.sec.gov/cgi-bin/browse-edgar?action...  \n",
      "3  http://www.sec.gov/cgi-bin/browse-edgar?action...  \n",
      "4  http://www.sec.gov/cgi-bin/browse-edgar?action...  \n"
     ]
    }
   ],
   "source": [
    "import os\n",
    "import pandas as pd\n",
    "\n",
    "df= pd.read_csv('..\\\\Data\\\\financials.csv')\n",
    "\n",
    "print(df.head())"
   ]
  },
  {
   "cell_type": "code",
   "execution_count": 177,
   "id": "dd75d08c",
   "metadata": {
    "scrolled": true
   },
   "outputs": [
    {
     "name": "stdout",
     "output_type": "stream",
     "text": [
      "['E-Trade' 'Budweiser' 'Bud Light' 'Pepsi' 'Doritos' 'NFL' 'Toyota'\n",
      " 'Coca-Cola' 'Hyundai' 'Kia']\n"
     ]
    }
   ],
   "source": [
    "df2 = pd.read_csv('..\\\\Data\\\\superbowl_commercials.csv')\n",
    "\n",
    "print(df2.Brand.unique())\n",
    "## Only 10 brands and some are the same corp"
   ]
  },
  {
   "cell_type": "code",
   "execution_count": 168,
   "id": "864384d5",
   "metadata": {},
   "outputs": [
    {
     "name": "stdout",
     "output_type": "stream",
     "text": [
      "             Date         SB                Winner Pts                Loser  \\\n",
      "0  \\nFeb 12, 2023  LVII (57)    Kansas City Chiefs  38  Philadelphia Eagles   \n",
      "1  \\nFeb 13, 2022   LVI (56)      Los Angeles Rams  23   Cincinnati Bengals   \n",
      "2   \\nFeb 7, 2021    LV (55)  Tampa Bay Buccaneers  31   Kansas City Chiefs   \n",
      "3   \\nFeb 2, 2020   LIV (54)    Kansas City Chiefs  31  San Francisco 49ers   \n",
      "4   \\nFeb 3, 2019  LIII (53)  New England Patriots  13     Los Angeles Rams   \n",
      "\n",
      "  Pts.1              MVP                Stadium           City       State  \n",
      "0    35  Patrick Mahomes     State Farm Stadium       Glendale     Arizona  \n",
      "1    20      Cooper Kupp           SoFi Stadium      Inglewood  California  \n",
      "2     9        Tom Brady  Raymond James Stadium          Tampa     Florida  \n",
      "3    20  Patrick Mahomes      Hard Rock Stadium  Miami Gardens     Florida  \n",
      "4     3   Julian Edelman  Mercedes-Benz Stadium        Atlanta     Georgia  \n"
     ]
    }
   ],
   "source": [
    "df3 = pd.read_csv('..\\\\Data\\\\superbowls.txt', sep='\\t', lineterminator='\\r')\n",
    "# Text file scraped from https://www.pro-football-reference.com/super-bowl/\n",
    "print(df3.head())"
   ]
  },
  {
   "cell_type": "code",
   "execution_count": 169,
   "id": "c5fc01af",
   "metadata": {},
   "outputs": [
    {
     "name": "stdout",
     "output_type": "stream",
     "text": [
      "<class 'pandas.core.frame.DataFrame'>\n",
      "RangeIndex: 563 entries, 0 to 562\n",
      "Data columns (total 4 columns):\n",
      " #   Column         Non-Null Count  Dtype \n",
      "---  ------         --------------  ----- \n",
      " 0   Year           563 non-null    object\n",
      " 1   Product Type   563 non-null    object\n",
      " 2   Product/Title  562 non-null    object\n",
      " 3   Plot/Notes     547 non-null    object\n",
      "dtypes: object(4)\n",
      "memory usage: 17.7+ KB\n"
     ]
    }
   ],
   "source": [
    "df4 = pd.read_csv('..\\\\Data\\\\superbowl-ads.csv')\n",
    "# This was cleaned up from Kaggle https://www.kaggle.com/datasets/prondeau/superbowlads\n",
    "\n",
    "df4.info()\n",
    "\n"
   ]
  },
  {
   "cell_type": "markdown",
   "id": "81dea3f9",
   "metadata": {},
   "source": [
    "## This is the best one I found and it is still a mess. I am wondering if I would not be better off scraping it myself like I did with the text files I loaded as `df3` and `df5`"
   ]
  },
  {
   "cell_type": "code",
   "execution_count": 170,
   "id": "c75f4929",
   "metadata": {},
   "outputs": [
    {
     "data": {
      "text/plain": [
       "array(['1969', '1970', '1975', '1976', '1979', '1981', '1982', '1984',\n",
       "       '1988', '1989', '1990', '1992', '1993', '1994', '1996', '1997',\n",
       "       '1998', '1999', '2000', '2001', '2002', '2003', '2004', '2005',\n",
       "       '2006', '2008', '2009', '2010', '2011', '2012', '2013', '2014',\n",
       "       '2015', '2016', '2017', '2018', '2019', '2020', 'Food, TV series'],\n",
       "      dtype=object)"
      ]
     },
     "execution_count": 170,
     "metadata": {},
     "output_type": "execute_result"
    }
   ],
   "source": [
    "df4.Year.unique()\n",
    "## Something wrong here with year "
   ]
  },
  {
   "cell_type": "code",
   "execution_count": 171,
   "id": "91aceec2",
   "metadata": {},
   "outputs": [
    {
     "data": {
      "text/html": [
       "<div>\n",
       "<style scoped>\n",
       "    .dataframe tbody tr th:only-of-type {\n",
       "        vertical-align: middle;\n",
       "    }\n",
       "\n",
       "    .dataframe tbody tr th {\n",
       "        vertical-align: top;\n",
       "    }\n",
       "\n",
       "    .dataframe thead th {\n",
       "        text-align: right;\n",
       "    }\n",
       "</style>\n",
       "<table border=\"1\" class=\"dataframe\">\n",
       "  <thead>\n",
       "    <tr style=\"text-align: right;\">\n",
       "      <th></th>\n",
       "      <th>Year</th>\n",
       "      <th>Product Type</th>\n",
       "      <th>Product/Title</th>\n",
       "      <th>Plot/Notes</th>\n",
       "    </tr>\n",
       "  </thead>\n",
       "  <tbody>\n",
       "    <tr>\n",
       "      <th>561</th>\n",
       "      <td>Food, TV series</td>\n",
       "      <td>Pringles, Rick and Morty</td>\n",
       "      <td>NaN</td>\n",
       "      <td>After Morty enthusiastically enters the living...</td>\n",
       "    </tr>\n",
       "  </tbody>\n",
       "</table>\n",
       "</div>"
      ],
      "text/plain": [
       "                Year              Product Type Product/Title  \\\n",
       "561  Food, TV series  Pringles, Rick and Morty           NaN   \n",
       "\n",
       "                                            Plot/Notes  \n",
       "561  After Morty enthusiastically enters the living...  "
      ]
     },
     "execution_count": 171,
     "metadata": {},
     "output_type": "execute_result"
    }
   ],
   "source": [
    "df4[df4.Year == 'Food, TV series']\n",
    "## looks like year should be 2020 and shift the two others over for this entry\n",
    "## lets make better column names first"
   ]
  },
  {
   "cell_type": "code",
   "execution_count": 172,
   "id": "c87e92fb",
   "metadata": {
    "scrolled": true
   },
   "outputs": [
    {
     "data": {
      "text/html": [
       "<div>\n",
       "<style scoped>\n",
       "    .dataframe tbody tr th:only-of-type {\n",
       "        vertical-align: middle;\n",
       "    }\n",
       "\n",
       "    .dataframe tbody tr th {\n",
       "        vertical-align: top;\n",
       "    }\n",
       "\n",
       "    .dataframe thead th {\n",
       "        text-align: right;\n",
       "    }\n",
       "</style>\n",
       "<table border=\"1\" class=\"dataframe\">\n",
       "  <thead>\n",
       "    <tr style=\"text-align: right;\">\n",
       "      <th></th>\n",
       "      <th>Year</th>\n",
       "      <th>Product_type</th>\n",
       "      <th>Brand_title</th>\n",
       "      <th>Plot</th>\n",
       "    </tr>\n",
       "  </thead>\n",
       "  <tbody>\n",
       "    <tr>\n",
       "      <th>0</th>\n",
       "      <td>1969</td>\n",
       "      <td>Car</td>\n",
       "      <td>Chrysler \"Scuba Diver\"[4]</td>\n",
       "      <td>A scuba diver in a dreamy sequence with groovy...</td>\n",
       "    </tr>\n",
       "    <tr>\n",
       "      <th>1</th>\n",
       "      <td>1970</td>\n",
       "      <td>Car</td>\n",
       "      <td>Pontiac\"Humbler\"</td>\n",
       "      <td>A young man pulled up in his GTO to a drive-in...</td>\n",
       "    </tr>\n",
       "    <tr>\n",
       "      <th>2</th>\n",
       "      <td>1975</td>\n",
       "      <td>Security</td>\n",
       "      <td>Master Lock\"Rifle\"</td>\n",
       "      <td>A man attempts to break a Master Lock with a r...</td>\n",
       "    </tr>\n",
       "    <tr>\n",
       "      <th>3</th>\n",
       "      <td>1976</td>\n",
       "      <td>Copy</td>\n",
       "      <td>Xerox\"Monks\"</td>\n",
       "      <td>A monk must make 500 handwritten scriptures fo...</td>\n",
       "    </tr>\n",
       "    <tr>\n",
       "      <th>4</th>\n",
       "      <td>1979</td>\n",
       "      <td>Soft drink</td>\n",
       "      <td>Coca-Cola\"Hey Kid, Catch!\"</td>\n",
       "      <td>A young kid tries to talk to \"Mean\" Joe Greene...</td>\n",
       "    </tr>\n",
       "    <tr>\n",
       "      <th>...</th>\n",
       "      <td>...</td>\n",
       "      <td>...</td>\n",
       "      <td>...</td>\n",
       "      <td>...</td>\n",
       "    </tr>\n",
       "    <tr>\n",
       "      <th>558</th>\n",
       "      <td>2020</td>\n",
       "      <td>Food</td>\n",
       "      <td>Doritos \"\"\"The Cool Ranch\"\"\" \"Lil Nas X and Sa...</td>\n",
       "      <td>NaN</td>\n",
       "    </tr>\n",
       "    <tr>\n",
       "      <th>559</th>\n",
       "      <td>2020</td>\n",
       "      <td>Food</td>\n",
       "      <td>Planters \"\"\"Tribute\"\"\" \"Following his death in...</td>\n",
       "      <td>Mr. Peanut returns to life as a newborn child...</td>\n",
       "    </tr>\n",
       "    <tr>\n",
       "      <th>560</th>\n",
       "      <td>2020</td>\n",
       "      <td>Food</td>\n",
       "      <td>Pop-Tarts Pretzel \"\"\"Pop-Tarts Fixed the Pretz...</td>\n",
       "      <td>promoting it as an alternative to \"\"boring\"\" ...</td>\n",
       "    </tr>\n",
       "    <tr>\n",
       "      <th>561</th>\n",
       "      <td>Food, TV series</td>\n",
       "      <td>Pringles, Rick and Morty</td>\n",
       "      <td>NaN</td>\n",
       "      <td>After Morty enthusiastically enters the living...</td>\n",
       "    </tr>\n",
       "    <tr>\n",
       "      <th>562</th>\n",
       "      <td>2020</td>\n",
       "      <td>Website</td>\n",
       "      <td>Facebook  \"Facebook groups \"\"Ready to Rock\"\" f...</td>\n",
       "      <td>NaN</td>\n",
       "    </tr>\n",
       "  </tbody>\n",
       "</table>\n",
       "<p>563 rows × 4 columns</p>\n",
       "</div>"
      ],
      "text/plain": [
       "                Year              Product_type  \\\n",
       "0               1969                       Car   \n",
       "1               1970                       Car   \n",
       "2               1975                  Security   \n",
       "3               1976                      Copy   \n",
       "4               1979                Soft drink   \n",
       "..               ...                       ...   \n",
       "558             2020                      Food   \n",
       "559             2020                      Food   \n",
       "560             2020                      Food   \n",
       "561  Food, TV series  Pringles, Rick and Morty   \n",
       "562             2020                   Website   \n",
       "\n",
       "                                           Brand_title  \\\n",
       "0                            Chrysler \"Scuba Diver\"[4]   \n",
       "1                                     Pontiac\"Humbler\"   \n",
       "2                                   Master Lock\"Rifle\"   \n",
       "3                                         Xerox\"Monks\"   \n",
       "4                           Coca-Cola\"Hey Kid, Catch!\"   \n",
       "..                                                 ...   \n",
       "558  Doritos \"\"\"The Cool Ranch\"\"\" \"Lil Nas X and Sa...   \n",
       "559  Planters \"\"\"Tribute\"\"\" \"Following his death in...   \n",
       "560  Pop-Tarts Pretzel \"\"\"Pop-Tarts Fixed the Pretz...   \n",
       "561                                                NaN   \n",
       "562  Facebook  \"Facebook groups \"\"Ready to Rock\"\" f...   \n",
       "\n",
       "                                                  Plot  \n",
       "0    A scuba diver in a dreamy sequence with groovy...  \n",
       "1    A young man pulled up in his GTO to a drive-in...  \n",
       "2    A man attempts to break a Master Lock with a r...  \n",
       "3    A monk must make 500 handwritten scriptures fo...  \n",
       "4    A young kid tries to talk to \"Mean\" Joe Greene...  \n",
       "..                                                 ...  \n",
       "558                                                NaN  \n",
       "559   Mr. Peanut returns to life as a newborn child...  \n",
       "560   promoting it as an alternative to \"\"boring\"\" ...  \n",
       "561  After Morty enthusiastically enters the living...  \n",
       "562                                                NaN  \n",
       "\n",
       "[563 rows x 4 columns]"
      ]
     },
     "execution_count": 172,
     "metadata": {},
     "output_type": "execute_result"
    }
   ],
   "source": [
    "df4.rename(columns={\"Product Type\":'Product_type', 'Product/Title':'Brand_title','Plot/Notes':'Plot'})"
   ]
  },
  {
   "cell_type": "code",
   "execution_count": null,
   "id": "0c5fac60",
   "metadata": {},
   "outputs": [],
   "source": []
  },
  {
   "cell_type": "code",
   "execution_count": 173,
   "id": "706a4d96",
   "metadata": {},
   "outputs": [
    {
     "data": {
      "text/plain": [
       "Year                                 None\n",
       "Product Type              Food, TV series\n",
       "Product/Title    Pringles, Rick and Morty\n",
       "Plot/Notes                            NaN\n",
       "Name: 561, dtype: object"
      ]
     },
     "execution_count": 173,
     "metadata": {},
     "output_type": "execute_result"
    }
   ],
   "source": [
    "df4.iloc[561] = df4.iloc[561].shift(1)\n",
    "df4.iloc[561]"
   ]
  },
  {
   "cell_type": "code",
   "execution_count": 174,
   "id": "8c7b4625",
   "metadata": {
    "scrolled": true
   },
   "outputs": [
    {
     "data": {
      "text/plain": [
       "Year                                 2020\n",
       "Product Type              Food, TV series\n",
       "Product/Title    Pringles, Rick and Morty\n",
       "Plot/Notes                            NaN\n",
       "Name: 561, dtype: object"
      ]
     },
     "execution_count": 174,
     "metadata": {},
     "output_type": "execute_result"
    }
   ],
   "source": [
    "df4.iloc[561].Year = 2020\n",
    "df4.iloc[561]"
   ]
  },
  {
   "cell_type": "code",
   "execution_count": 176,
   "id": "df9362ee",
   "metadata": {},
   "outputs": [
    {
     "data": {
      "text/html": [
       "<div>\n",
       "<style scoped>\n",
       "    .dataframe tbody tr th:only-of-type {\n",
       "        vertical-align: middle;\n",
       "    }\n",
       "\n",
       "    .dataframe tbody tr th {\n",
       "        vertical-align: top;\n",
       "    }\n",
       "\n",
       "    .dataframe thead th {\n",
       "        text-align: right;\n",
       "    }\n",
       "</style>\n",
       "<table border=\"1\" class=\"dataframe\">\n",
       "  <thead>\n",
       "    <tr style=\"text-align: right;\">\n",
       "      <th></th>\n",
       "      <th>Year</th>\n",
       "      <th>Product Type</th>\n",
       "      <th>Product/Title</th>\n",
       "      <th>Plot/Notes</th>\n",
       "      <th>Product</th>\n",
       "      <th>Title</th>\n",
       "    </tr>\n",
       "  </thead>\n",
       "  <tbody>\n",
       "    <tr>\n",
       "      <th>0</th>\n",
       "      <td>1969</td>\n",
       "      <td>Car</td>\n",
       "      <td>Chrysler \"Scuba Diver\"[4]</td>\n",
       "      <td>A scuba diver in a dreamy sequence with groovy...</td>\n",
       "      <td>Chrysler</td>\n",
       "      <td>Scuba Diver</td>\n",
       "    </tr>\n",
       "    <tr>\n",
       "      <th>1</th>\n",
       "      <td>1970</td>\n",
       "      <td>Car</td>\n",
       "      <td>Pontiac\"Humbler\"</td>\n",
       "      <td>A young man pulled up in his GTO to a drive-in...</td>\n",
       "      <td>Pontiac</td>\n",
       "      <td>Humbler</td>\n",
       "    </tr>\n",
       "    <tr>\n",
       "      <th>2</th>\n",
       "      <td>1975</td>\n",
       "      <td>Security</td>\n",
       "      <td>Master Lock\"Rifle\"</td>\n",
       "      <td>A man attempts to break a Master Lock with a r...</td>\n",
       "      <td>Master Lock</td>\n",
       "      <td>Rifle</td>\n",
       "    </tr>\n",
       "    <tr>\n",
       "      <th>3</th>\n",
       "      <td>1976</td>\n",
       "      <td>Copy</td>\n",
       "      <td>Xerox\"Monks\"</td>\n",
       "      <td>A monk must make 500 handwritten scriptures fo...</td>\n",
       "      <td>Xerox</td>\n",
       "      <td>Monks</td>\n",
       "    </tr>\n",
       "    <tr>\n",
       "      <th>4</th>\n",
       "      <td>1979</td>\n",
       "      <td>Soft drink</td>\n",
       "      <td>Coca-Cola\"Hey Kid, Catch!\"</td>\n",
       "      <td>A young kid tries to talk to \"Mean\" Joe Greene...</td>\n",
       "      <td>Coca-Cola</td>\n",
       "      <td>Hey Kid, Catch!</td>\n",
       "    </tr>\n",
       "  </tbody>\n",
       "</table>\n",
       "</div>"
      ],
      "text/plain": [
       "   Year Product Type               Product/Title  \\\n",
       "0  1969          Car   Chrysler \"Scuba Diver\"[4]   \n",
       "1  1970          Car            Pontiac\"Humbler\"   \n",
       "2  1975     Security          Master Lock\"Rifle\"   \n",
       "3  1976         Copy                Xerox\"Monks\"   \n",
       "4  1979   Soft drink  Coca-Cola\"Hey Kid, Catch!\"   \n",
       "\n",
       "                                          Plot/Notes      Product  \\\n",
       "0  A scuba diver in a dreamy sequence with groovy...    Chrysler    \n",
       "1  A young man pulled up in his GTO to a drive-in...      Pontiac   \n",
       "2  A man attempts to break a Master Lock with a r...  Master Lock   \n",
       "3  A monk must make 500 handwritten scriptures fo...        Xerox   \n",
       "4  A young kid tries to talk to \"Mean\" Joe Greene...    Coca-Cola   \n",
       "\n",
       "             Title  \n",
       "0      Scuba Diver  \n",
       "1          Humbler  \n",
       "2            Rifle  \n",
       "3            Monks  \n",
       "4  Hey Kid, Catch!  "
      ]
     },
     "execution_count": 176,
     "metadata": {},
     "output_type": "execute_result"
    }
   ],
   "source": [
    "df4[['Product','Title']] = df4['Product/Title'].str.split('\"',expand=True)[[0,1]]\n",
    "df4.head()"
   ]
  },
  {
   "cell_type": "code",
   "execution_count": 28,
   "id": "c713f970",
   "metadata": {},
   "outputs": [
    {
     "name": "stdout",
     "output_type": "stream",
     "text": [
      "             Company\\Brand  Ads            Industry  Latest First  Links\n",
      "0   \\n21st Century Studios   14              Movies    2019  1994    NaN\n",
      "1                   \\n7 Up   11         Soft Drinks    2001  1992    NaN\n",
      "2            \\n  Diet 7 Up    3         Soft Drinks    1992    --    NaN\n",
      "3              \\n84 Lumber    1   Building Supplies    2017    --    NaN\n",
      "4              \\nAccenture    4          Technology    2001    --    NaN\n",
      "5                  \\nAcura    3         Automobiles    2016  2001    NaN\n",
      "6            \\n  Acura MDX    1                SUVs    2001    --    NaN\n",
      "7            \\n  Acura NSX    2         Sports Cars    2016  2012    NaN\n",
      "8                    \\nADT    2       Home Security    2020  2019    NaN\n",
      "9                  \\nAdvil    5         Pain Relief    2016  1985    NaN\n",
      "10                 \\nAflac    1           Insurance    2017    --    NaN\n",
      "11                \\nAirbnb    1  Internet Companies    2017    --    NaN\n",
      "12                 \\nAlamo    2         Rental Cars    1994  1988    NaN\n",
      "13                 \\nAleve    1         Pain Relief    2006    --    NaN\n",
      "14            \\nAlfa Romeo    3                Cars    2017    --    NaN\n",
      "15          \\nAlka Seltzer    1                 NaN    1991    --    NaN\n",
      "16    \\nAllstate Insurance    6           Insurance    2016  1987    NaN\n",
      "17            \\n  Esurance    4           Insurance    2016  2015    NaN\n",
      "18                \\nAlways    1     Health & Beauty    2015    --    NaN\n",
      "19  \\nAmazon Retail Brands    9    Online Retailers    2021  2016    NaN\n"
     ]
    }
   ],
   "source": [
    "df5 = pd.read_csv('..\\\\Data\\\\advertisers.txt', sep='\\t', lineterminator='\\r')\n",
    "# Text file scraped from http://superadsdb.com/advertisers\n",
    "print(df5.head(20))"
   ]
  },
  {
   "cell_type": "code",
   "execution_count": null,
   "id": "d069d5be",
   "metadata": {},
   "outputs": [],
   "source": []
  }
 ],
 "metadata": {
  "kernelspec": {
   "display_name": "Python [conda env:snakes]",
   "language": "python",
   "name": "conda-env-snakes-py"
  },
  "language_info": {
   "codemirror_mode": {
    "name": "ipython",
    "version": 3
   },
   "file_extension": ".py",
   "mimetype": "text/x-python",
   "name": "python",
   "nbconvert_exporter": "python",
   "pygments_lexer": "ipython3",
   "version": "3.9.16"
  }
 },
 "nbformat": 4,
 "nbformat_minor": 5
}
