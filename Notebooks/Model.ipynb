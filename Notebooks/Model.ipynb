{
 "cells": [
  {
   "cell_type": "code",
   "execution_count": 1,
   "id": "aaf1cab1",
   "metadata": {},
   "outputs": [],
   "source": [
    "#Import necessary packages \n",
    "import matplotlib.pyplot as plt\n",
    "import seaborn as sns\n",
    "import pandas as pd\n",
    "import numpy as np"
   ]
  },
  {
   "cell_type": "code",
   "execution_count": 2,
   "id": "5b1a31d1",
   "metadata": {},
   "outputs": [],
   "source": [
    "# suppress future warnings\n",
    "import warnings\n",
    "warnings.simplefilter(action='ignore', category=FutureWarning)\n",
    "warnings.simplefilter(action='ignore', category=UserWarning)"
   ]
  },
  {
   "cell_type": "code",
   "execution_count": 3,
   "id": "4b915588",
   "metadata": {},
   "outputs": [],
   "source": [
    "# load the dataset\n",
    "df = pd.read_csv('df2.csv', index_col=0)"
   ]
  },
  {
   "cell_type": "code",
   "execution_count": 4,
   "id": "8e9a7e57",
   "metadata": {},
   "outputs": [
    {
     "name": "stdout",
     "output_type": "stream",
     "text": [
      "<class 'pandas.core.frame.DataFrame'>\n",
      "Int64Index: 232 entries, 10 to 555\n",
      "Data columns (total 10 columns):\n",
      " #   Column           Non-Null Count  Dtype  \n",
      "---  ------           --------------  -----  \n",
      " 0   Year             232 non-null    int64  \n",
      " 1   Product_type     232 non-null    object \n",
      " 2   Ticker           232 non-null    object \n",
      " 3   market_cap_cur   232 non-null    float64\n",
      " 4   shares_out       232 non-null    float64\n",
      " 5   year_inc         232 non-null    float64\n",
      " 6   Previous_SBs     232 non-null    int64  \n",
      " 7   Yearly_Ad_Count  232 non-null    int64  \n",
      " 8   New              232 non-null    int64  \n",
      " 9   overperform      232 non-null    int64  \n",
      "dtypes: float64(3), int64(5), object(2)\n",
      "memory usage: 19.9+ KB\n"
     ]
    }
   ],
   "source": [
    "df.drop(axis='columns' , columns=['close', 'close_plus6', 'spx_close', 'spx_plus6', 'return', 'SP_return' ], inplace=True)\n",
    "df.info()"
   ]
  },
  {
   "cell_type": "code",
   "execution_count": 5,
   "id": "3eaae772",
   "metadata": {},
   "outputs": [],
   "source": [
    "from sklearn.preprocessing import StandardScaler, OneHotEncoder\n",
    "from sklearn.model_selection import train_test_split, validation_curve\n",
    "from sklearn.compose import ColumnTransformer\n",
    "from sklearn.pipeline import Pipeline\n",
    "from sklearn.linear_model import LogisticRegression\n",
    "from sklearn import metrics\n",
    "from sklearn.metrics import confusion_matrix\n",
    "from sklearn.model_selection import cross_val_score, GridSearchCV\n",
    "from sklearn.preprocessing import MinMaxScaler\n",
    "from sklearn.metrics import accuracy_score\n",
    "from sklearn.neighbors import KNeighborsClassifier"
   ]
  },
  {
   "cell_type": "code",
   "execution_count": 6,
   "id": "c6474aff",
   "metadata": {},
   "outputs": [],
   "source": [
    "# Split the data\n",
    "X = df.drop('overperform',axis=1)\n",
    "y = df['overperform']\n",
    "\n",
    "X_train, X_test, y_train, y_test = train_test_split(X, y, test_size=0.2, random_state=714)"
   ]
  },
  {
   "cell_type": "code",
   "execution_count": 7,
   "id": "ad962638",
   "metadata": {},
   "outputs": [],
   "source": [
    "# pick transformers\n",
    "numeric_transformer = Pipeline(steps=[('scaler', StandardScaler())\n",
    "])\n",
    "categorical_transformer = Pipeline(steps=[('encoder', OneHotEncoder(sparse=False, handle_unknown='ignore'))\n",
    "])"
   ]
  },
  {
   "cell_type": "code",
   "execution_count": 8,
   "id": "3ec5d954",
   "metadata": {},
   "outputs": [],
   "source": [
    "# split columns into numeric and categorical\n",
    "numeric_features = ['Year', 'market_cap_cur', 'shares_out', 'year_inc', 'Previous_SBs', 'Yearly_Ad_Count','New']\n",
    "categorical_features = ['Product_type', 'Ticker']\n",
    "preprocessor = ColumnTransformer(\n",
    "   transformers=[\n",
    "    ('numeric', numeric_transformer, numeric_features)\n",
    "   ,('categorical', categorical_transformer, categorical_features)\n",
    "]) "
   ]
  },
  {
   "cell_type": "markdown",
   "id": "230d10e1",
   "metadata": {},
   "source": [
    "### Logistic Regression"
   ]
  },
  {
   "cell_type": "code",
   "execution_count": 9,
   "id": "9814d2be",
   "metadata": {},
   "outputs": [],
   "source": [
    "C_params = [0.001,0.01,0.1,1,10,100,1000, 1000000]"
   ]
  },
  {
   "cell_type": "code",
   "execution_count": 10,
   "id": "c1cce18a",
   "metadata": {},
   "outputs": [
    {
     "name": "stdout",
     "output_type": "stream",
     "text": [
      "[[27  0]\n",
      " [20  0]]\n",
      "[[27  0]\n",
      " [20  0]]\n",
      "[[25  2]\n",
      " [17  3]]\n",
      "[[23  4]\n",
      " [15  5]]\n",
      "[[21  6]\n",
      " [14  6]]\n",
      "[[22  5]\n",
      " [15  5]]\n",
      "[[23  4]\n",
      " [15  5]]\n",
      "[[22  5]\n",
      " [15  5]]\n"
     ]
    },
    {
     "data": {
      "text/html": [
       "<div>\n",
       "<style scoped>\n",
       "    .dataframe tbody tr th:only-of-type {\n",
       "        vertical-align: middle;\n",
       "    }\n",
       "\n",
       "    .dataframe tbody tr th {\n",
       "        vertical-align: top;\n",
       "    }\n",
       "\n",
       "    .dataframe thead th {\n",
       "        text-align: right;\n",
       "    }\n",
       "</style>\n",
       "<table border=\"1\" class=\"dataframe\">\n",
       "  <thead>\n",
       "    <tr style=\"text-align: right;\">\n",
       "      <th></th>\n",
       "      <th>C</th>\n",
       "      <th>Recall</th>\n",
       "      <th>Precision</th>\n",
       "      <th>ROC-AOC</th>\n",
       "    </tr>\n",
       "  </thead>\n",
       "  <tbody>\n",
       "    <tr>\n",
       "      <th>0</th>\n",
       "      <td>0.001</td>\n",
       "      <td>0.0</td>\n",
       "      <td>0.0</td>\n",
       "      <td>0.477778</td>\n",
       "    </tr>\n",
       "    <tr>\n",
       "      <th>1</th>\n",
       "      <td>0.010</td>\n",
       "      <td>0.0</td>\n",
       "      <td>0.0</td>\n",
       "      <td>0.483333</td>\n",
       "    </tr>\n",
       "    <tr>\n",
       "      <th>2</th>\n",
       "      <td>0.100</td>\n",
       "      <td>0.15</td>\n",
       "      <td>0.6</td>\n",
       "      <td>0.511111</td>\n",
       "    </tr>\n",
       "    <tr>\n",
       "      <th>3</th>\n",
       "      <td>1.000</td>\n",
       "      <td>0.25</td>\n",
       "      <td>0.555556</td>\n",
       "      <td>0.503704</td>\n",
       "    </tr>\n",
       "    <tr>\n",
       "      <th>4</th>\n",
       "      <td>10.000</td>\n",
       "      <td>0.3</td>\n",
       "      <td>0.5</td>\n",
       "      <td>0.546296</td>\n",
       "    </tr>\n",
       "    <tr>\n",
       "      <th>5</th>\n",
       "      <td>100.000</td>\n",
       "      <td>0.25</td>\n",
       "      <td>0.5</td>\n",
       "      <td>0.57963</td>\n",
       "    </tr>\n",
       "    <tr>\n",
       "      <th>6</th>\n",
       "      <td>1000.000</td>\n",
       "      <td>0.25</td>\n",
       "      <td>0.555556</td>\n",
       "      <td>0.562963</td>\n",
       "    </tr>\n",
       "    <tr>\n",
       "      <th>7</th>\n",
       "      <td>1000000.000</td>\n",
       "      <td>0.25</td>\n",
       "      <td>0.5</td>\n",
       "      <td>0.55</td>\n",
       "    </tr>\n",
       "  </tbody>\n",
       "</table>\n",
       "</div>"
      ],
      "text/plain": [
       "             C Recall Precision   ROC-AOC\n",
       "0        0.001    0.0       0.0  0.477778\n",
       "1        0.010    0.0       0.0  0.483333\n",
       "2        0.100   0.15       0.6  0.511111\n",
       "3        1.000   0.25  0.555556  0.503704\n",
       "4       10.000    0.3       0.5  0.546296\n",
       "5      100.000   0.25       0.5   0.57963\n",
       "6     1000.000   0.25  0.555556  0.562963\n",
       "7  1000000.000   0.25       0.5      0.55"
      ]
     },
     "execution_count": 10,
     "metadata": {},
     "output_type": "execute_result"
    }
   ],
   "source": [
    "# loop through C_params\n",
    "j = 0\n",
    "\n",
    "table = pd.DataFrame(columns = ['C','Recall','Precision','ROC-AOC'])\n",
    "table['C'] = C_params\n",
    "for C in C_params:\n",
    "    \n",
    "    # Apply logistic regression model to training data\n",
    "    pipeline = Pipeline(steps = [\n",
    "               ('preprocessor', preprocessor)\n",
    "              ,('regressor',LogisticRegression(C=C,random_state=42))\n",
    "           ])\n",
    "    lr_model = pipeline.fit(X_train, y_train) \n",
    "    predictions = lr_model.predict(X_test)\n",
    "    probs = pipeline.predict_proba(X_test)[:, 1]\n",
    "    # Predict using model\n",
    "    #print('C is ',C)\n",
    "    #print ('Recall: ',metrics.recall_score(y_test, predictions) )\n",
    "    #print ('Precision: ',metrics.precision_score(y_test, predictions) )\n",
    "    print (confusion_matrix(y_test, predictions))\n",
    "    #print ('AOC: ',metrics.roc_auc_score(y, probs))\n",
    "    table.iloc[j,1] = metrics.recall_score(y_test, predictions)\n",
    "    table.iloc[j,2] = metrics.precision_score(y_test, predictions)\n",
    "    table.iloc[j,3] = metrics.roc_auc_score(y_test, probs)\n",
    "    j+=1\n",
    "table\n",
    "\n"
   ]
  },
  {
   "cell_type": "markdown",
   "id": "dd29c899",
   "metadata": {},
   "source": [
    "Looks like decreasing penalties improves the model. If this ends up near the top this should come out in GridSearch"
   ]
  },
  {
   "cell_type": "code",
   "execution_count": 11,
   "id": "0cdbd252",
   "metadata": {},
   "outputs": [
    {
     "name": "stdout",
     "output_type": "stream",
     "text": [
      "[0.31428571 0.71428571 0.71428571 0.6       ]\n",
      "Mean cross validation test score: 0.5857142857142857\n",
      "Mean cross validation train score: 0.5995421245421246\n",
      "Standard deviation in cv test scores: 0.1635074734608514\n"
     ]
    }
   ],
   "source": [
    "cv_scores_test= cross_val_score(lr_model,X_test,y_test,cv=4,scoring='roc_auc')\n",
    "cv_scores_train= cross_val_score(lr_model,X_train,y_train,cv=4,scoring='roc_auc')\n",
    "print(cv_scores_test)\n",
    "cv_scores_lr_test= cv_scores_test.mean()\n",
    "cv_scores_lr_train= cv_scores_train.mean()\n",
    "cv_scores_std_test_lr= cv_scores_test.std()\n",
    "print ('Mean cross validation test score: ' +str(cv_scores_lr_test))\n",
    "print ('Mean cross validation train score: ' +str(cv_scores_lr_train))\n",
    "print ('Standard deviation in cv test scores: ' +str(cv_scores_std_test_lr))"
   ]
  },
  {
   "cell_type": "markdown",
   "id": "2c184541",
   "metadata": {},
   "source": [
    "## KNN"
   ]
  },
  {
   "cell_type": "code",
   "execution_count": 12,
   "id": "65278a7d",
   "metadata": {},
   "outputs": [
    {
     "name": "stdout",
     "output_type": "stream",
     "text": [
      "[[21  6]\n",
      " [14  6]]\n"
     ]
    }
   ],
   "source": [
    "# Reset the pipeline and try KNN\n",
    "pipeline = Pipeline(steps = [\n",
    "               ('preprocessor', preprocessor)\n",
    "              ,('regressor', KNeighborsClassifier(p=2,weights='distance',n_neighbors=20))\n",
    "           ])\n",
    "\n",
    "knn = pipeline.fit(X_train,y_train)\n",
    "\n",
    "# Predict using model:\n",
    "\n",
    "y_predict_knn = pipeline.predict(X_test)\n",
    "\n",
    "#Confusion matrix:\n",
    "\n",
    "cnf_matrix = confusion_matrix(y_test, y_predict_knn)\n",
    "print(cnf_matrix)"
   ]
  },
  {
   "cell_type": "code",
   "execution_count": 13,
   "id": "5ed7a9a3",
   "metadata": {},
   "outputs": [
    {
     "name": "stdout",
     "output_type": "stream",
     "text": [
      "[0.6        0.65714286 0.42857143 0.73333333]\n",
      "Mean cross validation test score: 0.6047619047619048\n",
      "Mean cross validation train score: 0.5429945054945055\n",
      "Standard deviation in cv scores: 0.11218303799418806\n"
     ]
    }
   ],
   "source": [
    "cv_scores_test= cross_val_score(pipeline,X_test,y_test,cv=4,scoring='roc_auc')\n",
    "cv_scores_train= cross_val_score(pipeline,X_train,y_train,cv=4,scoring='roc_auc')\n",
    "print(cv_scores_test)\n",
    "cv_scores_knn_test= cv_scores_test.mean()\n",
    "cv_scores_knn_train= cv_scores_train.mean()\n",
    "cv_scores_std_knn= cv_scores_test.std()\n",
    "print ('Mean cross validation test score: ' +str(cv_scores_knn_test))\n",
    "print ('Mean cross validation train score: ' +str(cv_scores_knn_train))\n",
    "print ('Standard deviation in cv scores: ' +str(cv_scores_std_knn))"
   ]
  },
  {
   "cell_type": "markdown",
   "id": "b1d1bb63",
   "metadata": {},
   "source": [
    "## SVM"
   ]
  },
  {
   "cell_type": "code",
   "execution_count": 14,
   "id": "d9a00210",
   "metadata": {},
   "outputs": [
    {
     "name": "stdout",
     "output_type": "stream",
     "text": [
      "[[22  5]\n",
      " [15  5]]\n"
     ]
    }
   ],
   "source": [
    "from sklearn.svm import SVC\n",
    "pipeline = Pipeline(steps = [\n",
    "               ('preprocessor', preprocessor)\n",
    "              ,('regressor', SVC(kernel='linear'))\n",
    "           ])\n",
    "svm = pipeline.fit(X_train, y_train)\n",
    "\n",
    "# Predict using model:\n",
    "\n",
    "y_predict_svm = pipeline.predict(X_test)\n",
    "#Confusion matrix:\n",
    "\n",
    "cnf_matrix = confusion_matrix(y_test, y_predict_svm)\n",
    "print(cnf_matrix)\n"
   ]
  },
  {
   "cell_type": "code",
   "execution_count": 15,
   "id": "7084bdc9",
   "metadata": {},
   "outputs": [
    {
     "name": "stdout",
     "output_type": "stream",
     "text": [
      "[0.5        0.54166667 0.7        0.65       0.7       ]\n",
      "Mean cross validation test score: 0.6183333333333334\n",
      "Mean cross validation train score: 0.55390756302521\n",
      "Standard deviation in cv scores: 0.08273115763993906\n"
     ]
    }
   ],
   "source": [
    "cv_scores_test= cross_val_score(pipeline,X_test,y_test,cv=5,scoring='roc_auc')\n",
    "cv_scores_train= cross_val_score(pipeline,X_train,y_train,cv=5,scoring='roc_auc')\n",
    "print(cv_scores_test)\n",
    "cv_scores_svm_test= cv_scores_test.mean()\n",
    "cv_scores_svm_train= cv_scores_train.mean()\n",
    "cv_scores_std_svm= cv_scores_test.std()\n",
    "print ('Mean cross validation test score: ' +str(cv_scores_svm_test))\n",
    "print ('Mean cross validation train score: ' +str(cv_scores_svm_train))\n",
    "print ('Standard deviation in cv scores: ' +str(cv_scores_std_svm))"
   ]
  },
  {
   "cell_type": "markdown",
   "id": "17c1f4bc",
   "metadata": {},
   "source": [
    "## Random Forest"
   ]
  },
  {
   "cell_type": "code",
   "execution_count": 16,
   "id": "27a01cac",
   "metadata": {},
   "outputs": [
    {
     "name": "stdout",
     "output_type": "stream",
     "text": [
      "[[23  4]\n",
      " [15  5]]\n",
      "0.5957446808510638\n"
     ]
    },
    {
     "ename": "AttributeError",
     "evalue": "'Pipeline' object has no attribute 'feature_importances_'",
     "output_type": "error",
     "traceback": [
      "\u001b[1;31m---------------------------------------------------------------------------\u001b[0m",
      "\u001b[1;31mAttributeError\u001b[0m                            Traceback (most recent call last)",
      "Cell \u001b[1;32mIn[16], line 19\u001b[0m\n\u001b[0;32m     17\u001b[0m Accuracy_rf\u001b[38;5;241m=\u001b[39mrf\u001b[38;5;241m.\u001b[39mscore(X_test,y_test)\n\u001b[0;32m     18\u001b[0m \u001b[38;5;28mprint\u001b[39m(Accuracy_rf)\n\u001b[1;32m---> 19\u001b[0m \u001b[43mrf\u001b[49m\u001b[38;5;241;43m.\u001b[39;49m\u001b[43mfeature_importances_\u001b[49m\n",
      "\u001b[1;31mAttributeError\u001b[0m: 'Pipeline' object has no attribute 'feature_importances_'"
     ]
    }
   ],
   "source": [
    "from sklearn.ensemble import RandomForestClassifier\n",
    "pipeline = Pipeline(steps = [\n",
    "               ('preprocessor', preprocessor)\n",
    "              ,('regressor', RandomForestClassifier(bootstrap=True,n_estimators=40,criterion='entropy', max_depth=9))\n",
    "           ])\n",
    "rf = pipeline.fit(X_train, y_train)\n",
    "\n",
    "\n",
    "#Predict using the model:\n",
    "\n",
    "y_predict_rf = rf.predict(X_test)\n",
    "\n",
    "#Confusion matrix:\n",
    "\n",
    "cnf_matrix = confusion_matrix(y_test, y_predict_rf)\n",
    "print(cnf_matrix)\n",
    "Accuracy_rf=rf.score(X_test,y_test)\n",
    "print(Accuracy_rf)\n",
    "rf.feature_importances_"
   ]
  },
  {
   "cell_type": "code",
   "execution_count": 17,
   "id": "5c5409ab",
   "metadata": {},
   "outputs": [
    {
     "data": {
      "text/plain": [
       "array([0.14205967, 0.07265566, 0.07562182, 0.08877706, 0.12324642,\n",
       "       0.05669285, 0.01876243, 0.00161648, 0.01668869, 0.00398828,\n",
       "       0.00696744, 0.01166974, 0.003659  , 0.00999613, 0.00542137,\n",
       "       0.01232875, 0.01000341, 0.0051017 , 0.02206885, 0.00726788,\n",
       "       0.00377965, 0.0006209 , 0.00730195, 0.00585833, 0.00302131,\n",
       "       0.0009364 , 0.00978548, 0.00937591, 0.00078968, 0.00122133,\n",
       "       0.01173282, 0.00124388, 0.00254359, 0.00078631, 0.00712139,\n",
       "       0.00209036, 0.00299136, 0.00572115, 0.01186097, 0.00657231,\n",
       "       0.00258148, 0.00618449, 0.00066295, 0.00294066, 0.00240249,\n",
       "       0.00241183, 0.00096666, 0.00160355, 0.00718144, 0.00326131,\n",
       "       0.00237553, 0.01454451, 0.0008354 , 0.0034755 , 0.00564567,\n",
       "       0.00156644, 0.00214148, 0.00341168, 0.00544606, 0.0032216 ,\n",
       "       0.00272622, 0.00416578, 0.00296942, 0.00209012, 0.00180607,\n",
       "       0.00285006, 0.00635923, 0.00079783, 0.        , 0.00582849,\n",
       "       0.0113266 , 0.0007686 , 0.00075209, 0.00143029, 0.        ,\n",
       "       0.0073581 , 0.01340028, 0.00504316, 0.00103831, 0.0018172 ,\n",
       "       0.00329176, 0.02796967, 0.00354208, 0.00264608, 0.00342917,\n",
       "       0.00020542, 0.00148273, 0.00184554, 0.01674803, 0.00100641,\n",
       "       0.00096811, 0.00042826, 0.00109943])"
      ]
     },
     "execution_count": 17,
     "metadata": {},
     "output_type": "execute_result"
    }
   ],
   "source": [
    "rf['regressor'].feature_importances_"
   ]
  },
  {
   "cell_type": "code",
   "execution_count": null,
   "id": "1613c727",
   "metadata": {},
   "outputs": [],
   "source": [
    "cv_scores_test= cross_val_score(rf,X_test,y_test,cv=4,scoring='roc_auc')\n",
    "cv_scores_train= cross_val_score(rf,X_train,y_train,cv=4,scoring='roc_auc')\n",
    "print(cv_scores_test)\n",
    "cv_scores_rf_test= cv_scores_test.mean()\n",
    "cv_scores_rf_train= cv_scores_train.mean()\n",
    "cv_scores_std_rf= cv_scores_test.std()\n",
    "print ('Mean cross validation test score: ' +str(cv_scores_rf_test))\n",
    "print ('Mean cross validation train score: ' +str(cv_scores_rf_train))\n",
    "print ('Standard deviation in cv scores: ' +str(cv_scores_std_rf))"
   ]
  },
  {
   "cell_type": "markdown",
   "id": "f1eed780",
   "metadata": {},
   "source": [
    "## Gradient Boosting"
   ]
  },
  {
   "cell_type": "code",
   "execution_count": null,
   "id": "f6747e08",
   "metadata": {},
   "outputs": [],
   "source": [
    "from sklearn.ensemble import ExtraTreesClassifier, GradientBoostingClassifier\n",
    "pipeline = Pipeline(steps = [\n",
    "               ('preprocessor', preprocessor)\n",
    "              ,('regressor',  GradientBoostingClassifier(subsample=0.8, learning_rate=0.05 , n_estimators=140, random_state=5, max_depth=9, max_leaf_nodes=100))\n",
    "           ])\n",
    "gbc = pipeline.fit(X_train, y_train)\n",
    "\n",
    "#Predict using the model:\n",
    "\n",
    "y_predict_gbc = gbc.predict(X_test)\n",
    "\n",
    "#Confusion matrix:\n",
    "\n",
    "cnf_matrix = confusion_matrix(y_test, y_predict_gbc)\n",
    "print(cnf_matrix)\n",
    "Accuracy_gbc=gbc.score(X_test,y_test)\n",
    "print(Accuracy_gbc)"
   ]
  },
  {
   "cell_type": "code",
   "execution_count": null,
   "id": "7506b9c8",
   "metadata": {},
   "outputs": [],
   "source": []
  }
 ],
 "metadata": {
  "kernelspec": {
   "display_name": "Python [conda env:snakes]",
   "language": "python",
   "name": "conda-env-snakes-py"
  },
  "language_info": {
   "codemirror_mode": {
    "name": "ipython",
    "version": 3
   },
   "file_extension": ".py",
   "mimetype": "text/x-python",
   "name": "python",
   "nbconvert_exporter": "python",
   "pygments_lexer": "ipython3",
   "version": "3.9.16"
  }
 },
 "nbformat": 4,
 "nbformat_minor": 5
}
