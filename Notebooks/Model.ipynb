{
 "cells": [
  {
   "cell_type": "code",
   "execution_count": 53,
   "id": "aaf1cab1",
   "metadata": {},
   "outputs": [],
   "source": [
    "#Import necessary packages \n",
    "import matplotlib.pyplot as plt\n",
    "import seaborn as sns\n",
    "import pandas as pd\n",
    "import numpy as np"
   ]
  },
  {
   "cell_type": "code",
   "execution_count": 54,
   "id": "5b1a31d1",
   "metadata": {},
   "outputs": [],
   "source": [
    "# suppress future warnings\n",
    "import warnings\n",
    "warnings.simplefilter(action='ignore', category=FutureWarning)\n",
    "warnings.simplefilter(action='ignore', category=UserWarning)"
   ]
  },
  {
   "cell_type": "code",
   "execution_count": 55,
   "id": "4b915588",
   "metadata": {},
   "outputs": [],
   "source": [
    "# load the dataset\n",
    "df = pd.read_csv('df2.csv', index_col=0)"
   ]
  },
  {
   "cell_type": "code",
   "execution_count": 56,
   "id": "8e9a7e57",
   "metadata": {},
   "outputs": [
    {
     "name": "stdout",
     "output_type": "stream",
     "text": [
      "<class 'pandas.core.frame.DataFrame'>\n",
      "Int64Index: 232 entries, 10 to 539\n",
      "Data columns (total 16 columns):\n",
      " #   Column                Non-Null Count  Dtype  \n",
      "---  ------                --------------  -----  \n",
      " 0   Year                  232 non-null    int64  \n",
      " 1   Product_type          232 non-null    object \n",
      " 2   Ticker                232 non-null    object \n",
      " 3   market_cap_cur        232 non-null    float64\n",
      " 4   shares_out            232 non-null    float64\n",
      " 5   year_inc              232 non-null    float64\n",
      " 6   Previous_SBs          232 non-null    int64  \n",
      " 7   Yearly_Ad_Count       232 non-null    int64  \n",
      " 8   New                   232 non-null    int64  \n",
      " 9   overperform           232 non-null    int64  \n",
      " 10  Ave_inflation_rate    232 non-null    float64\n",
      " 11  CPI                   232 non-null    float64\n",
      " 12  USD_per_euro          232 non-null    float64\n",
      " 13  Annual_change_GDP     232 non-null    float64\n",
      " 14  VIX                   232 non-null    float64\n",
      " 15  change_in_businesses  232 non-null    float64\n",
      "dtypes: float64(9), int64(5), object(2)\n",
      "memory usage: 30.8+ KB\n"
     ]
    }
   ],
   "source": [
    "df.drop(axis='columns' , columns=['close', 'close_plus6', 'spx_close', 'spx_plus6', 'return', 'SP_return' ], inplace=True)\n",
    "df.info()"
   ]
  },
  {
   "cell_type": "code",
   "execution_count": 57,
   "id": "3eaae772",
   "metadata": {},
   "outputs": [],
   "source": [
    "from sklearn.preprocessing import StandardScaler, OneHotEncoder\n",
    "from sklearn.model_selection import train_test_split, validation_curve\n",
    "from sklearn.compose import ColumnTransformer\n",
    "from sklearn.pipeline import Pipeline\n",
    "from sklearn.linear_model import LogisticRegression\n",
    "from sklearn import metrics\n",
    "from sklearn.metrics import confusion_matrix\n",
    "from sklearn.model_selection import cross_val_score, GridSearchCV\n",
    "from sklearn.preprocessing import MinMaxScaler\n",
    "from sklearn.metrics import accuracy_score\n",
    "from sklearn.neighbors import KNeighborsClassifier"
   ]
  },
  {
   "cell_type": "code",
   "execution_count": 58,
   "id": "c6474aff",
   "metadata": {},
   "outputs": [],
   "source": [
    "# Split the data\n",
    "X = df.drop('overperform',axis=1)\n",
    "y = df['overperform']\n",
    "\n",
    "X_train, X_test, y_train, y_test = train_test_split(X, y, test_size=0.2, random_state=714)"
   ]
  },
  {
   "cell_type": "code",
   "execution_count": 59,
   "id": "ad962638",
   "metadata": {},
   "outputs": [],
   "source": [
    "# pick transformers\n",
    "numeric_transformer = Pipeline(steps=[('scaler', StandardScaler())\n",
    "])\n",
    "categorical_transformer = Pipeline(steps=[('encoder', OneHotEncoder(sparse=False, handle_unknown='ignore'))\n",
    "])"
   ]
  },
  {
   "cell_type": "code",
   "execution_count": 60,
   "id": "3ec5d954",
   "metadata": {},
   "outputs": [],
   "source": [
    "# split columns into numeric and categorical\n",
    "numeric_features = ['Year', 'market_cap_cur', 'shares_out', 'year_inc', 'Previous_SBs', 'Yearly_Ad_Count','New', 'Ave_inflation_rate', 'CPI','USD_per_euro', 'Annual_change_GDP','VIX','change_in_businesses']\n",
    "categorical_features = ['Product_type', 'Ticker']\n",
    "preprocessor = ColumnTransformer(\n",
    "   transformers=[\n",
    "    ('numeric', numeric_transformer, numeric_features)\n",
    "   ,('categorical', categorical_transformer, categorical_features)\n",
    "]) "
   ]
  },
  {
   "cell_type": "markdown",
   "id": "230d10e1",
   "metadata": {},
   "source": [
    "### Logistic Regression"
   ]
  },
  {
   "cell_type": "code",
   "execution_count": 61,
   "id": "9814d2be",
   "metadata": {},
   "outputs": [],
   "source": [
    "C_params = [0.001,0.01,0.1,1,10,100,1000, 1000000]"
   ]
  },
  {
   "cell_type": "code",
   "execution_count": 62,
   "id": "c1cce18a",
   "metadata": {},
   "outputs": [
    {
     "name": "stdout",
     "output_type": "stream",
     "text": [
      "[[27  0]\n",
      " [20  0]]\n",
      "[[24  3]\n",
      " [17  3]]\n",
      "[[22  5]\n",
      " [16  4]]\n",
      "[[22  5]\n",
      " [13  7]]\n",
      "[[22  5]\n",
      " [14  6]]\n",
      "[[22  5]\n",
      " [15  5]]\n",
      "[[23  4]\n",
      " [15  5]]\n",
      "[[23  4]\n",
      " [15  5]]\n"
     ]
    },
    {
     "data": {
      "text/html": [
       "<div>\n",
       "<style scoped>\n",
       "    .dataframe tbody tr th:only-of-type {\n",
       "        vertical-align: middle;\n",
       "    }\n",
       "\n",
       "    .dataframe tbody tr th {\n",
       "        vertical-align: top;\n",
       "    }\n",
       "\n",
       "    .dataframe thead th {\n",
       "        text-align: right;\n",
       "    }\n",
       "</style>\n",
       "<table border=\"1\" class=\"dataframe\">\n",
       "  <thead>\n",
       "    <tr style=\"text-align: right;\">\n",
       "      <th></th>\n",
       "      <th>C</th>\n",
       "      <th>Recall</th>\n",
       "      <th>Precision</th>\n",
       "      <th>ROC-AOC</th>\n",
       "    </tr>\n",
       "  </thead>\n",
       "  <tbody>\n",
       "    <tr>\n",
       "      <th>0</th>\n",
       "      <td>0.001</td>\n",
       "      <td>0.0</td>\n",
       "      <td>0.0</td>\n",
       "      <td>0.514815</td>\n",
       "    </tr>\n",
       "    <tr>\n",
       "      <th>1</th>\n",
       "      <td>0.010</td>\n",
       "      <td>0.15</td>\n",
       "      <td>0.5</td>\n",
       "      <td>0.507407</td>\n",
       "    </tr>\n",
       "    <tr>\n",
       "      <th>2</th>\n",
       "      <td>0.100</td>\n",
       "      <td>0.2</td>\n",
       "      <td>0.444444</td>\n",
       "      <td>0.555556</td>\n",
       "    </tr>\n",
       "    <tr>\n",
       "      <th>3</th>\n",
       "      <td>1.000</td>\n",
       "      <td>0.35</td>\n",
       "      <td>0.583333</td>\n",
       "      <td>0.583333</td>\n",
       "    </tr>\n",
       "    <tr>\n",
       "      <th>4</th>\n",
       "      <td>10.000</td>\n",
       "      <td>0.3</td>\n",
       "      <td>0.545455</td>\n",
       "      <td>0.596296</td>\n",
       "    </tr>\n",
       "    <tr>\n",
       "      <th>5</th>\n",
       "      <td>100.000</td>\n",
       "      <td>0.25</td>\n",
       "      <td>0.5</td>\n",
       "      <td>0.605556</td>\n",
       "    </tr>\n",
       "    <tr>\n",
       "      <th>6</th>\n",
       "      <td>1000.000</td>\n",
       "      <td>0.25</td>\n",
       "      <td>0.555556</td>\n",
       "      <td>0.574074</td>\n",
       "    </tr>\n",
       "    <tr>\n",
       "      <th>7</th>\n",
       "      <td>1000000.000</td>\n",
       "      <td>0.25</td>\n",
       "      <td>0.555556</td>\n",
       "      <td>0.588889</td>\n",
       "    </tr>\n",
       "  </tbody>\n",
       "</table>\n",
       "</div>"
      ],
      "text/plain": [
       "             C Recall Precision   ROC-AOC\n",
       "0        0.001    0.0       0.0  0.514815\n",
       "1        0.010   0.15       0.5  0.507407\n",
       "2        0.100    0.2  0.444444  0.555556\n",
       "3        1.000   0.35  0.583333  0.583333\n",
       "4       10.000    0.3  0.545455  0.596296\n",
       "5      100.000   0.25       0.5  0.605556\n",
       "6     1000.000   0.25  0.555556  0.574074\n",
       "7  1000000.000   0.25  0.555556  0.588889"
      ]
     },
     "execution_count": 62,
     "metadata": {},
     "output_type": "execute_result"
    }
   ],
   "source": [
    "# loop through C_params\n",
    "j = 0\n",
    "\n",
    "table = pd.DataFrame(columns = ['C','Recall','Precision','ROC-AOC'])\n",
    "table['C'] = C_params\n",
    "for C in C_params:\n",
    "    \n",
    "    # Apply logistic regression model to training data\n",
    "    pipeline = Pipeline(steps = [\n",
    "               ('preprocessor', preprocessor)\n",
    "              ,('regressor',LogisticRegression(C=C,random_state=42))\n",
    "           ])\n",
    "    lr_model = pipeline.fit(X_train, y_train) \n",
    "    predictions = lr_model.predict(X_test)\n",
    "    probs = pipeline.predict_proba(X_test)[:, 1]\n",
    "    # Predict using model\n",
    "    #print('C is ',C)\n",
    "    #print ('Recall: ',metrics.recall_score(y_test, predictions) )\n",
    "    #print ('Precision: ',metrics.precision_score(y_test, predictions) )\n",
    "    print (confusion_matrix(y_test, predictions))\n",
    "    #print ('AOC: ',metrics.roc_auc_score(y, probs))\n",
    "    table.iloc[j,1] = metrics.recall_score(y_test, predictions)\n",
    "    table.iloc[j,2] = metrics.precision_score(y_test, predictions)\n",
    "    table.iloc[j,3] = metrics.roc_auc_score(y_test, probs)\n",
    "    j+=1\n",
    "table\n",
    "\n"
   ]
  },
  {
   "cell_type": "markdown",
   "id": "dd29c899",
   "metadata": {},
   "source": [
    "Looks like decreasing penalties improves the model. If this ends up near the top this should come out in GridSearch"
   ]
  },
  {
   "cell_type": "code",
   "execution_count": 63,
   "id": "0cdbd252",
   "metadata": {},
   "outputs": [
    {
     "name": "stdout",
     "output_type": "stream",
     "text": [
      "[0.34285714 0.65714286 0.51428571 0.53333333]\n",
      "Mean cross validation test score: 0.5119047619047619\n",
      "Mean cross validation train score: 0.6091575091575092\n",
      "Standard deviation in cv test scores: 0.11195540900484524\n"
     ]
    }
   ],
   "source": [
    "cv_scores_test= cross_val_score(lr_model,X_test,y_test,cv=4,scoring='roc_auc')\n",
    "cv_scores_train= cross_val_score(lr_model,X_train,y_train,cv=4,scoring='roc_auc')\n",
    "print(cv_scores_test)\n",
    "cv_scores_lr_test= cv_scores_test.mean()\n",
    "cv_scores_lr_train= cv_scores_train.mean()\n",
    "cv_scores_std_test_lr= cv_scores_test.std()\n",
    "print ('Mean cross validation test score: ' +str(cv_scores_lr_test))\n",
    "print ('Mean cross validation train score: ' +str(cv_scores_lr_train))\n",
    "print ('Standard deviation in cv test scores: ' +str(cv_scores_std_test_lr))"
   ]
  },
  {
   "cell_type": "markdown",
   "id": "2c184541",
   "metadata": {},
   "source": [
    "## KNN"
   ]
  },
  {
   "cell_type": "code",
   "execution_count": 64,
   "id": "65278a7d",
   "metadata": {},
   "outputs": [
    {
     "name": "stdout",
     "output_type": "stream",
     "text": [
      "[[20  7]\n",
      " [13  7]]\n"
     ]
    }
   ],
   "source": [
    "# Reset the pipeline and try KNN\n",
    "pipeline = Pipeline(steps = [\n",
    "               ('preprocessor', preprocessor)\n",
    "              ,('regressor', KNeighborsClassifier(p=2,weights='distance',n_neighbors=20))\n",
    "           ])\n",
    "\n",
    "knn = pipeline.fit(X_train,y_train)\n",
    "\n",
    "# Predict using model:\n",
    "\n",
    "y_predict_knn = pipeline.predict(X_test)\n",
    "\n",
    "#Confusion matrix:\n",
    "\n",
    "cnf_matrix = confusion_matrix(y_test, y_predict_knn)\n",
    "print(cnf_matrix)"
   ]
  },
  {
   "cell_type": "code",
   "execution_count": 65,
   "id": "5ed7a9a3",
   "metadata": {},
   "outputs": [
    {
     "name": "stdout",
     "output_type": "stream",
     "text": [
      "[0.62857143 0.68571429 0.28571429 0.83333333]\n",
      "Mean cross validation test score: 0.6083333333333334\n",
      "Mean cross validation train score: 0.5724130036630037\n",
      "Standard deviation in cv scores: 0.20068971210357964\n"
     ]
    }
   ],
   "source": [
    "cv_scores_test= cross_val_score(pipeline,X_test,y_test,cv=4,scoring='roc_auc')\n",
    "cv_scores_train= cross_val_score(pipeline,X_train,y_train,cv=4,scoring='roc_auc')\n",
    "print(cv_scores_test)\n",
    "cv_scores_knn_test= cv_scores_test.mean()\n",
    "cv_scores_knn_train= cv_scores_train.mean()\n",
    "cv_scores_std_knn= cv_scores_test.std()\n",
    "print ('Mean cross validation test score: ' +str(cv_scores_knn_test))\n",
    "print ('Mean cross validation train score: ' +str(cv_scores_knn_train))\n",
    "print ('Standard deviation in cv scores: ' +str(cv_scores_std_knn))"
   ]
  },
  {
   "cell_type": "markdown",
   "id": "14139bba",
   "metadata": {},
   "source": [
    "### Something seems strange here with an outlier model"
   ]
  },
  {
   "cell_type": "markdown",
   "id": "b1d1bb63",
   "metadata": {},
   "source": [
    "## SVM"
   ]
  },
  {
   "cell_type": "code",
   "execution_count": 66,
   "id": "d9a00210",
   "metadata": {},
   "outputs": [
    {
     "name": "stdout",
     "output_type": "stream",
     "text": [
      "[[22  5]\n",
      " [14  6]]\n"
     ]
    }
   ],
   "source": [
    "from sklearn.svm import SVC\n",
    "pipeline = Pipeline(steps = [\n",
    "               ('preprocessor', preprocessor)\n",
    "              ,('regressor', SVC(kernel='linear'))\n",
    "           ])\n",
    "svm = pipeline.fit(X_train, y_train)\n",
    "\n",
    "# Predict using model:\n",
    "\n",
    "y_predict_svm = pipeline.predict(X_test)\n",
    "#Confusion matrix:\n",
    "\n",
    "cnf_matrix = confusion_matrix(y_test, y_predict_svm)\n",
    "print(cnf_matrix)\n"
   ]
  },
  {
   "cell_type": "code",
   "execution_count": 67,
   "id": "7084bdc9",
   "metadata": {},
   "outputs": [
    {
     "name": "stdout",
     "output_type": "stream",
     "text": [
      "[0.75       0.41666667 0.55       0.6        0.8       ]\n",
      "Mean cross validation test score: 0.6233333333333334\n",
      "Mean cross validation train score: 0.5753991596638655\n",
      "Standard deviation in cv scores: 0.1384838538522733\n"
     ]
    }
   ],
   "source": [
    "cv_scores_test= cross_val_score(pipeline,X_test,y_test,cv=5,scoring='roc_auc')\n",
    "cv_scores_train= cross_val_score(pipeline,X_train,y_train,cv=5,scoring='roc_auc')\n",
    "print(cv_scores_test)\n",
    "cv_scores_svm_test= cv_scores_test.mean()\n",
    "cv_scores_svm_train= cv_scores_train.mean()\n",
    "cv_scores_std_svm= cv_scores_test.std()\n",
    "print ('Mean cross validation test score: ' +str(cv_scores_svm_test))\n",
    "print ('Mean cross validation train score: ' +str(cv_scores_svm_train))\n",
    "print ('Standard deviation in cv scores: ' +str(cv_scores_std_svm))"
   ]
  },
  {
   "cell_type": "markdown",
   "id": "17c1f4bc",
   "metadata": {},
   "source": [
    "## Random Forest"
   ]
  },
  {
   "cell_type": "code",
   "execution_count": 68,
   "id": "27a01cac",
   "metadata": {},
   "outputs": [
    {
     "name": "stdout",
     "output_type": "stream",
     "text": [
      "[[25  2]\n",
      " [14  6]]\n",
      "0.6595744680851063\n"
     ]
    }
   ],
   "source": [
    "from sklearn.ensemble import RandomForestClassifier\n",
    "pipeline = Pipeline(steps = [\n",
    "               ('preprocessor', preprocessor)\n",
    "              ,('regressor', RandomForestClassifier(bootstrap=True,n_estimators=40,criterion='entropy', max_depth=9))\n",
    "           ])\n",
    "rf = pipeline.fit(X_train, y_train)\n",
    "\n",
    "\n",
    "#Predict using the model:\n",
    "\n",
    "y_predict_rf = rf.predict(X_test)\n",
    "\n",
    "#Confusion matrix:\n",
    "\n",
    "cnf_matrix = confusion_matrix(y_test, y_predict_rf)\n",
    "print(cnf_matrix)\n",
    "Accuracy_rf=rf.score(X_test,y_test)\n",
    "print(Accuracy_rf)\n"
   ]
  },
  {
   "cell_type": "code",
   "execution_count": 69,
   "id": "5c5409ab",
   "metadata": {},
   "outputs": [
    {
     "data": {
      "text/plain": [
       "array([4.40769557e-02, 7.20657619e-02, 8.16812359e-02, 5.24665658e-02,\n",
       "       5.86701134e-02, 2.79368861e-02, 8.34515035e-03, 3.60237740e-02,\n",
       "       3.38157294e-02, 4.83520412e-02, 7.01659275e-02, 5.85266516e-02,\n",
       "       6.20974621e-02, 4.57465415e-03, 9.80419177e-03, 3.66531451e-03,\n",
       "       8.34124819e-03, 1.41771743e-02, 2.46874339e-03, 5.88308575e-03,\n",
       "       1.21825930e-02, 1.04482949e-02, 8.42231800e-03, 4.34392577e-03,\n",
       "       2.08919676e-02, 7.21588483e-03, 1.70645512e-03, 2.35661406e-03,\n",
       "       5.83999172e-03, 7.58373507e-04, 7.35882496e-03, 1.34656993e-03,\n",
       "       9.01841027e-03, 5.43868453e-03, 2.45321088e-03, 7.34483193e-04,\n",
       "       9.81249970e-03, 0.00000000e+00, 1.20263334e-03, 0.00000000e+00,\n",
       "       4.99074441e-03, 2.26787034e-03, 3.87257589e-03, 1.31843136e-03,\n",
       "       9.78060459e-03, 6.72468394e-03, 1.86556174e-03, 1.71758832e-03,\n",
       "       1.45905424e-03, 2.92053141e-03, 2.07248388e-03, 0.00000000e+00,\n",
       "       9.56167830e-04, 2.16202172e-03, 7.37135990e-04, 1.77250808e-03,\n",
       "       9.36965003e-04, 1.87301602e-02, 9.02129947e-04, 2.86341837e-03,\n",
       "       1.32886003e-03, 0.00000000e+00, 2.82768012e-03, 2.66700526e-03,\n",
       "       2.76552709e-04, 7.17614745e-03, 1.82117820e-03, 8.72870058e-04,\n",
       "       2.56189578e-03, 2.79877046e-03, 0.00000000e+00, 1.75998441e-03,\n",
       "       1.08903385e-03, 1.02851870e-03, 4.96981922e-04, 3.65780552e-03,\n",
       "       7.62694142e-03, 1.97375497e-04, 6.36805371e-04, 2.17989516e-03,\n",
       "       4.94751049e-03, 3.55932890e-03, 8.95589615e-03, 6.01623959e-03,\n",
       "       1.99418073e-04, 3.39055214e-03, 2.93734763e-05, 2.06831753e-02,\n",
       "       2.62699040e-03, 1.92775840e-04, 1.83373282e-03, 0.00000000e+00,\n",
       "       0.00000000e+00, 5.47713448e-03, 1.35655662e-02, 4.66583035e-04,\n",
       "       0.00000000e+00, 0.00000000e+00, 4.33038174e-03])"
      ]
     },
     "execution_count": 69,
     "metadata": {},
     "output_type": "execute_result"
    }
   ],
   "source": [
    "rf['regressor'].feature_importances_"
   ]
  },
  {
   "cell_type": "code",
   "execution_count": 70,
   "id": "1613c727",
   "metadata": {},
   "outputs": [
    {
     "name": "stdout",
     "output_type": "stream",
     "text": [
      "[0.55714286 0.58571429 0.48571429 0.6       ]\n",
      "Mean cross validation test score: 0.5571428571428572\n",
      "Mean cross validation train score: 0.5796245421245421\n",
      "Standard deviation in cv scores: 0.04403152859263555\n"
     ]
    }
   ],
   "source": [
    "cv_scores_test= cross_val_score(rf,X_test,y_test,cv=4,scoring='roc_auc')\n",
    "cv_scores_train= cross_val_score(rf,X_train,y_train,cv=4,scoring='roc_auc')\n",
    "print(cv_scores_test)\n",
    "cv_scores_rf_test= cv_scores_test.mean()\n",
    "cv_scores_rf_train= cv_scores_train.mean()\n",
    "cv_scores_std_rf= cv_scores_test.std()\n",
    "print ('Mean cross validation test score: ' +str(cv_scores_rf_test))\n",
    "print ('Mean cross validation train score: ' +str(cv_scores_rf_train))\n",
    "print ('Standard deviation in cv scores: ' +str(cv_scores_std_rf))"
   ]
  },
  {
   "cell_type": "markdown",
   "id": "f1eed780",
   "metadata": {},
   "source": [
    "## Gradient Boosting"
   ]
  },
  {
   "cell_type": "code",
   "execution_count": 71,
   "id": "f6747e08",
   "metadata": {},
   "outputs": [
    {
     "name": "stdout",
     "output_type": "stream",
     "text": [
      "[[20  7]\n",
      " [12  8]]\n",
      "0.5957446808510638\n"
     ]
    }
   ],
   "source": [
    "from sklearn.ensemble import ExtraTreesClassifier, GradientBoostingClassifier\n",
    "pipeline = Pipeline(steps = [\n",
    "               ('preprocessor', preprocessor)\n",
    "              ,('regressor',  GradientBoostingClassifier(subsample=0.8, learning_rate=0.05 , n_estimators=140, random_state=5, max_depth=9, max_leaf_nodes=100))\n",
    "           ])\n",
    "gbc = pipeline.fit(X_train, y_train)\n",
    "\n",
    "#Predict using the model:\n",
    "\n",
    "y_predict_gbc = gbc.predict(X_test)\n",
    "\n",
    "#Confusion matrix:\n",
    "\n",
    "cnf_matrix = confusion_matrix(y_test, y_predict_gbc)\n",
    "print(cnf_matrix)\n",
    "Accuracy_gbc=gbc.score(X_test,y_test)\n",
    "print(Accuracy_gbc)"
   ]
  },
  {
   "cell_type": "code",
   "execution_count": 72,
   "id": "7506b9c8",
   "metadata": {},
   "outputs": [
    {
     "name": "stdout",
     "output_type": "stream",
     "text": [
      "[0.37142857 0.6        0.68571429 0.7       ]\n",
      "Mean cross validation test score: 0.5571428571428572\n",
      "Mean cross validation train score: 0.5796245421245421\n",
      "Standard deviation in cv scores: 0.04403152859263555\n"
     ]
    }
   ],
   "source": [
    "cv_scores_test= cross_val_score(gbc,X_test,y_test,cv=4,scoring='roc_auc')\n",
    "cv_scores_train= cross_val_score(gbc,X_train,y_train,cv=4,scoring='roc_auc')\n",
    "print(cv_scores_test)\n",
    "cv_scores_gbc_test= cv_scores_test.mean()\n",
    "cv_scores_gbc_train= cv_scores_train.mean()\n",
    "cv_scores_std_gbc= cv_scores_test.std()\n",
    "print ('Mean cross validation test score: ' +str(cv_scores_rf_test))\n",
    "print ('Mean cross validation train score: ' +str(cv_scores_rf_train))\n",
    "print ('Standard deviation in cv scores: ' +str(cv_scores_std_rf))"
   ]
  },
  {
   "cell_type": "code",
   "execution_count": null,
   "id": "983ae769",
   "metadata": {},
   "outputs": [],
   "source": []
  }
 ],
 "metadata": {
  "kernelspec": {
   "display_name": "Python [conda env:snakes]",
   "language": "python",
   "name": "conda-env-snakes-py"
  },
  "language_info": {
   "codemirror_mode": {
    "name": "ipython",
    "version": 3
   },
   "file_extension": ".py",
   "mimetype": "text/x-python",
   "name": "python",
   "nbconvert_exporter": "python",
   "pygments_lexer": "ipython3",
   "version": "3.9.16"
  }
 },
 "nbformat": 4,
 "nbformat_minor": 5
}
