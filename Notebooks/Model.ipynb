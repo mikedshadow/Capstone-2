{
 "cells": [
  {
   "cell_type": "code",
   "execution_count": 1,
   "id": "aaf1cab1",
   "metadata": {},
   "outputs": [],
   "source": [
    "#Import necessary packages \n",
    "import matplotlib.pyplot as plt\n",
    "import seaborn as sns\n",
    "import pandas as pd\n",
    "import numpy as np"
   ]
  },
  {
   "cell_type": "code",
   "execution_count": 2,
   "id": "5b1a31d1",
   "metadata": {},
   "outputs": [],
   "source": [
    "# suppress future warnings\n",
    "import warnings\n",
    "warnings.simplefilter(action='ignore', category=FutureWarning)\n",
    "warnings.simplefilter(action='ignore', category=UserWarning)"
   ]
  },
  {
   "cell_type": "code",
   "execution_count": 3,
   "id": "0d0efc6c",
   "metadata": {},
   "outputs": [],
   "source": [
    "df_raw = pd.read_csv('df2.csv', index_col=0)"
   ]
  },
  {
   "cell_type": "code",
   "execution_count": 4,
   "id": "4b915588",
   "metadata": {},
   "outputs": [],
   "source": [
    "# load the dataset\n",
    "df = pd.read_csv('df2.csv', index_col=0)"
   ]
  },
  {
   "cell_type": "code",
   "execution_count": 5,
   "id": "8e9a7e57",
   "metadata": {
    "scrolled": true
   },
   "outputs": [
    {
     "name": "stdout",
     "output_type": "stream",
     "text": [
      "<class 'pandas.core.frame.DataFrame'>\n",
      "Int64Index: 232 entries, 10 to 539\n",
      "Data columns (total 16 columns):\n",
      " #   Column                Non-Null Count  Dtype  \n",
      "---  ------                --------------  -----  \n",
      " 0   Year                  232 non-null    int64  \n",
      " 1   Product_type          232 non-null    object \n",
      " 2   Ticker                232 non-null    object \n",
      " 3   market_cap_cur        232 non-null    float64\n",
      " 4   shares_out            232 non-null    float64\n",
      " 5   year_inc              232 non-null    float64\n",
      " 6   Previous_SBs          232 non-null    int64  \n",
      " 7   Yearly_Ad_Count       232 non-null    int64  \n",
      " 8   New                   232 non-null    int64  \n",
      " 9   overperform           232 non-null    int64  \n",
      " 10  Ave_inflation_rate    232 non-null    float64\n",
      " 11  CPI                   232 non-null    float64\n",
      " 12  USD_per_euro          232 non-null    float64\n",
      " 13  Annual_change_GDP     232 non-null    float64\n",
      " 14  VIX                   232 non-null    float64\n",
      " 15  change_in_businesses  232 non-null    float64\n",
      "dtypes: float64(9), int64(5), object(2)\n",
      "memory usage: 30.8+ KB\n"
     ]
    }
   ],
   "source": [
    "df.drop(axis='columns' , columns=['close', 'close_plus6', 'spx_close', 'spx_plus6', 'return', 'SP_return' ], inplace=True)\n",
    "df.info()"
   ]
  },
  {
   "cell_type": "code",
   "execution_count": 6,
   "id": "2902b64c",
   "metadata": {},
   "outputs": [
    {
     "data": {
      "text/plain": [
       "Product_type  New\n",
       "Alcohol       0      0.538462\n",
       "Car           0      0.282051\n",
       "Clothing      0      0.333333\n",
       "Film          0      0.416667\n",
       "Food          0      0.560000\n",
       "              1      0.625000\n",
       "Gaming        0      1.000000\n",
       "Goods         0      0.437500\n",
       "              1      0.000000\n",
       "Service       0      0.555556\n",
       "              1      0.600000\n",
       "Soft drink    0      0.600000\n",
       "              1      1.000000\n",
       "TV            0      0.714286\n",
       "Technology    0      0.400000\n",
       "              1      0.000000\n",
       "Website       0      0.363636\n",
       "              1      0.000000\n",
       "Wireless      0      0.333333\n",
       "Name: overperform, dtype: float64"
      ]
     },
     "execution_count": 6,
     "metadata": {},
     "output_type": "execute_result"
    }
   ],
   "source": [
    "df.groupby(['Product_type','New'])['overperform'].mean()"
   ]
  },
  {
   "cell_type": "code",
   "execution_count": 7,
   "id": "3eaae772",
   "metadata": {},
   "outputs": [],
   "source": [
    "from sklearn.preprocessing import StandardScaler, OneHotEncoder\n",
    "from sklearn.model_selection import train_test_split, validation_curve\n",
    "from sklearn.compose import ColumnTransformer\n",
    "from sklearn.pipeline import Pipeline\n",
    "from sklearn.linear_model import LogisticRegression\n",
    "from sklearn import metrics\n",
    "from sklearn.metrics import confusion_matrix, classification_report\n",
    "from sklearn.model_selection import cross_val_score, GridSearchCV\n",
    "from sklearn.preprocessing import MinMaxScaler\n",
    "from sklearn.metrics import accuracy_score\n",
    "from sklearn.neighbors import KNeighborsClassifier"
   ]
  },
  {
   "cell_type": "code",
   "execution_count": 8,
   "id": "c6474aff",
   "metadata": {},
   "outputs": [],
   "source": [
    "# Split the data\n",
    "X = df.drop('overperform',axis=1)\n",
    "y = df['overperform']\n",
    "\n",
    "X_train, X_test, y_train, y_test = train_test_split(X, y, test_size=0.2, random_state=714)"
   ]
  },
  {
   "cell_type": "code",
   "execution_count": 9,
   "id": "ad962638",
   "metadata": {},
   "outputs": [],
   "source": [
    "# pick transformers\n",
    "numeric_transformer = Pipeline(steps=[('scaler', StandardScaler())\n",
    "])\n",
    "categorical_transformer = Pipeline(steps=[('encoder', OneHotEncoder(sparse=False, handle_unknown='ignore'))\n",
    "])"
   ]
  },
  {
   "cell_type": "code",
   "execution_count": 10,
   "id": "3ec5d954",
   "metadata": {},
   "outputs": [],
   "source": [
    "# split columns into numeric and categorical\n",
    "numeric_features = ['Year', 'market_cap_cur', 'shares_out', 'year_inc', 'Previous_SBs', 'Yearly_Ad_Count','New', 'Ave_inflation_rate', 'CPI','USD_per_euro', 'Annual_change_GDP','VIX','change_in_businesses']\n",
    "categorical_features = ['Product_type', 'Ticker']\n",
    "preprocessor = ColumnTransformer(\n",
    "   transformers=[\n",
    "    ('numeric', numeric_transformer, numeric_features)\n",
    "   ,('categorical', categorical_transformer, categorical_features)\n",
    "]) "
   ]
  },
  {
   "cell_type": "markdown",
   "id": "230d10e1",
   "metadata": {},
   "source": [
    "### Logistic Regression"
   ]
  },
  {
   "cell_type": "code",
   "execution_count": 11,
   "id": "9814d2be",
   "metadata": {},
   "outputs": [],
   "source": [
    "C_params = [0.001,0.01,0.1,1,10,100,1000, 1000000]"
   ]
  },
  {
   "cell_type": "code",
   "execution_count": 12,
   "id": "c1cce18a",
   "metadata": {
    "scrolled": true
   },
   "outputs": [
    {
     "name": "stdout",
     "output_type": "stream",
     "text": [
      "[[27  0]\n",
      " [20  0]]\n",
      "[[24  3]\n",
      " [17  3]]\n",
      "[[22  5]\n",
      " [16  4]]\n",
      "[[22  5]\n",
      " [13  7]]\n",
      "[[22  5]\n",
      " [14  6]]\n",
      "[[22  5]\n",
      " [15  5]]\n",
      "[[23  4]\n",
      " [15  5]]\n",
      "[[23  4]\n",
      " [15  5]]\n"
     ]
    },
    {
     "data": {
      "text/html": [
       "<div>\n",
       "<style scoped>\n",
       "    .dataframe tbody tr th:only-of-type {\n",
       "        vertical-align: middle;\n",
       "    }\n",
       "\n",
       "    .dataframe tbody tr th {\n",
       "        vertical-align: top;\n",
       "    }\n",
       "\n",
       "    .dataframe thead th {\n",
       "        text-align: right;\n",
       "    }\n",
       "</style>\n",
       "<table border=\"1\" class=\"dataframe\">\n",
       "  <thead>\n",
       "    <tr style=\"text-align: right;\">\n",
       "      <th></th>\n",
       "      <th>C</th>\n",
       "      <th>Recall</th>\n",
       "      <th>Precision</th>\n",
       "      <th>ROC-AOC</th>\n",
       "    </tr>\n",
       "  </thead>\n",
       "  <tbody>\n",
       "    <tr>\n",
       "      <th>0</th>\n",
       "      <td>0.001</td>\n",
       "      <td>0.0</td>\n",
       "      <td>0.0</td>\n",
       "      <td>0.514815</td>\n",
       "    </tr>\n",
       "    <tr>\n",
       "      <th>1</th>\n",
       "      <td>0.010</td>\n",
       "      <td>0.15</td>\n",
       "      <td>0.5</td>\n",
       "      <td>0.507407</td>\n",
       "    </tr>\n",
       "    <tr>\n",
       "      <th>2</th>\n",
       "      <td>0.100</td>\n",
       "      <td>0.2</td>\n",
       "      <td>0.444444</td>\n",
       "      <td>0.555556</td>\n",
       "    </tr>\n",
       "    <tr>\n",
       "      <th>3</th>\n",
       "      <td>1.000</td>\n",
       "      <td>0.35</td>\n",
       "      <td>0.583333</td>\n",
       "      <td>0.583333</td>\n",
       "    </tr>\n",
       "    <tr>\n",
       "      <th>4</th>\n",
       "      <td>10.000</td>\n",
       "      <td>0.3</td>\n",
       "      <td>0.545455</td>\n",
       "      <td>0.596296</td>\n",
       "    </tr>\n",
       "    <tr>\n",
       "      <th>5</th>\n",
       "      <td>100.000</td>\n",
       "      <td>0.25</td>\n",
       "      <td>0.5</td>\n",
       "      <td>0.605556</td>\n",
       "    </tr>\n",
       "    <tr>\n",
       "      <th>6</th>\n",
       "      <td>1000.000</td>\n",
       "      <td>0.25</td>\n",
       "      <td>0.555556</td>\n",
       "      <td>0.574074</td>\n",
       "    </tr>\n",
       "    <tr>\n",
       "      <th>7</th>\n",
       "      <td>1000000.000</td>\n",
       "      <td>0.25</td>\n",
       "      <td>0.555556</td>\n",
       "      <td>0.588889</td>\n",
       "    </tr>\n",
       "  </tbody>\n",
       "</table>\n",
       "</div>"
      ],
      "text/plain": [
       "             C Recall Precision   ROC-AOC\n",
       "0        0.001    0.0       0.0  0.514815\n",
       "1        0.010   0.15       0.5  0.507407\n",
       "2        0.100    0.2  0.444444  0.555556\n",
       "3        1.000   0.35  0.583333  0.583333\n",
       "4       10.000    0.3  0.545455  0.596296\n",
       "5      100.000   0.25       0.5  0.605556\n",
       "6     1000.000   0.25  0.555556  0.574074\n",
       "7  1000000.000   0.25  0.555556  0.588889"
      ]
     },
     "execution_count": 12,
     "metadata": {},
     "output_type": "execute_result"
    }
   ],
   "source": [
    "# loop through C_params\n",
    "j = 0\n",
    "\n",
    "table = pd.DataFrame(columns = ['C','Recall','Precision','ROC-AOC'])\n",
    "table['C'] = C_params\n",
    "for C in C_params:\n",
    "    \n",
    "    # Apply logistic regression model to training data\n",
    "    pipeline = Pipeline(steps = [\n",
    "               ('preprocessor', preprocessor)\n",
    "              ,('regressor',LogisticRegression(C=C,random_state=42))\n",
    "           ])\n",
    "    lr_model = pipeline.fit(X_train, y_train) \n",
    "    predictions = lr_model.predict(X_test)\n",
    "    probs = pipeline.predict_proba(X_test)[:, 1]\n",
    "    # Predict using model\n",
    "    #print('C is ',C)\n",
    "    #print ('Recall: ',metrics.recall_score(y_test, predictions) )\n",
    "    #print ('Precision: ',metrics.precision_score(y_test, predictions) )\n",
    "    print (confusion_matrix(y_test, predictions))\n",
    "    #print ('AOC: ',metrics.roc_auc_score(y, probs))\n",
    "    table.iloc[j,1] = metrics.recall_score(y_test, predictions)\n",
    "    table.iloc[j,2] = metrics.precision_score(y_test, predictions)\n",
    "    table.iloc[j,3] = metrics.roc_auc_score(y_test, probs)\n",
    "    j+=1\n",
    "table\n",
    "\n"
   ]
  },
  {
   "cell_type": "markdown",
   "id": "dd29c899",
   "metadata": {},
   "source": [
    "Looks like decreasing penalties improves the model. If this ends up near the top this should come out in GridSearch"
   ]
  },
  {
   "cell_type": "code",
   "execution_count": 13,
   "id": "0cdbd252",
   "metadata": {},
   "outputs": [
    {
     "name": "stdout",
     "output_type": "stream",
     "text": [
      "[0.34285714 0.65714286 0.51428571 0.53333333]\n",
      "Mean cross validation test score: 0.5119047619047619\n",
      "Mean cross validation train score: 0.6091575091575092\n",
      "Standard deviation in cv test scores: 0.11195540900484524\n"
     ]
    }
   ],
   "source": [
    "cv_scores_test= cross_val_score(lr_model,X_test,y_test,cv=4,scoring='roc_auc')\n",
    "cv_scores_train= cross_val_score(lr_model,X_train,y_train,cv=4,scoring='roc_auc')\n",
    "print(cv_scores_test)\n",
    "cv_scores_lr_test= cv_scores_test.mean()\n",
    "cv_precision_lr_test = cross_val_score(lr_model,X_test,y_test,cv=4,scoring='precision').mean()\n",
    "cv_recall_lr_test = cross_val_score(lr_model,X_test,y_test,cv=4,scoring='recall').mean()\n",
    "cv_scores_lr_train= cv_scores_train.mean()\n",
    "cv_scores_std_lr = cv_scores_test.std()\n",
    "print ('Mean cross validation test score: ' +str(cv_scores_lr_test))\n",
    "print ('Mean cross validation train score: ' +str(cv_scores_lr_train))\n",
    "print ('Standard deviation in cv test scores: ' +str(cv_scores_std_lr))\n"
   ]
  },
  {
   "cell_type": "code",
   "execution_count": 14,
   "id": "ceba872f",
   "metadata": {},
   "outputs": [
    {
     "data": {
      "text/html": [
       "<div>\n",
       "<style scoped>\n",
       "    .dataframe tbody tr th:only-of-type {\n",
       "        vertical-align: middle;\n",
       "    }\n",
       "\n",
       "    .dataframe tbody tr th {\n",
       "        vertical-align: top;\n",
       "    }\n",
       "\n",
       "    .dataframe thead th {\n",
       "        text-align: right;\n",
       "    }\n",
       "</style>\n",
       "<table border=\"1\" class=\"dataframe\">\n",
       "  <thead>\n",
       "    <tr style=\"text-align: right;\">\n",
       "      <th></th>\n",
       "      <th>Model</th>\n",
       "      <th>Recall</th>\n",
       "      <th>Precision</th>\n",
       "      <th>ROC-AOC</th>\n",
       "    </tr>\n",
       "  </thead>\n",
       "  <tbody>\n",
       "    <tr>\n",
       "      <th>0</th>\n",
       "      <td>Logistic Regression</td>\n",
       "      <td>0.5</td>\n",
       "      <td>0.441667</td>\n",
       "      <td>0.511905</td>\n",
       "    </tr>\n",
       "  </tbody>\n",
       "</table>\n",
       "</div>"
      ],
      "text/plain": [
       "                 Model Recall Precision   ROC-AOC\n",
       "0  Logistic Regression    0.5  0.441667  0.511905"
      ]
     },
     "execution_count": 14,
     "metadata": {},
     "output_type": "execute_result"
    }
   ],
   "source": [
    "table = pd.DataFrame(columns = ['Model','Recall','Precision','ROC-AOC'])\n",
    "table[['Model','Recall','Precision','ROC-AOC']] = [['Logistic Regression', cv_recall_lr_test, cv_precision_lr_test , cv_scores_lr_test]]\n",
    "table"
   ]
  },
  {
   "cell_type": "markdown",
   "id": "cdcec7c9",
   "metadata": {},
   "source": [
    "Not really looking that good with the large difference between training and test"
   ]
  },
  {
   "cell_type": "markdown",
   "id": "2c184541",
   "metadata": {},
   "source": [
    "## KNN"
   ]
  },
  {
   "cell_type": "code",
   "execution_count": 15,
   "id": "65278a7d",
   "metadata": {},
   "outputs": [
    {
     "name": "stdout",
     "output_type": "stream",
     "text": [
      "[[22  5]\n",
      " [12  8]]\n"
     ]
    }
   ],
   "source": [
    "# Reset the pipeline and try KNN\n",
    "pipeline = Pipeline(steps = [\n",
    "               ('preprocessor', preprocessor)\n",
    "              ,('regressor', KNeighborsClassifier(p=2,weights='distance',n_neighbors=6))\n",
    "           ])\n",
    "\n",
    "knn = pipeline.fit(X_train,y_train)\n",
    "\n",
    "# Predict using model:\n",
    "\n",
    "y_predict_knn = pipeline.predict(X_test)\n",
    "\n",
    "#Confusion matrix:\n",
    "\n",
    "cnf_matrix = confusion_matrix(y_test, y_predict_knn)\n",
    "print(cnf_matrix)"
   ]
  },
  {
   "cell_type": "code",
   "execution_count": 16,
   "id": "5ed7a9a3",
   "metadata": {
    "scrolled": true
   },
   "outputs": [
    {
     "name": "stdout",
     "output_type": "stream",
     "text": [
      "[0.77142857 0.62857143 0.45714286 0.83333333]\n",
      "Mean cross validation test score: 0.6726190476190476\n",
      "Mean cross validation train score: 0.5104510073260073\n",
      "Standard deviation in cv scores: 0.14488149039302228\n"
     ]
    }
   ],
   "source": [
    "cv_scores_test= cross_val_score(pipeline,X_test,y_test,cv=4,scoring='roc_auc')\n",
    "cv_scores_train= cross_val_score(pipeline,X_train,y_train,cv=4,scoring='roc_auc')\n",
    "print(cv_scores_test)\n",
    "cv_scores_knn_test= cv_scores_test.mean()\n",
    "cv_precision_knn_test = cross_val_score(pipeline, X_test,y_test,cv=4,scoring='precision').mean()\n",
    "cv_recall_knn_test = cross_val_score(pipeline, X_test,y_test,cv=4,scoring='recall').mean()\n",
    "cv_scores_knn_train= cv_scores_train.mean()\n",
    "cv_scores_std_knn= cv_scores_test.std()\n",
    "print ('Mean cross validation test score: ' +str(cv_scores_knn_test))\n",
    "print ('Mean cross validation train score: ' +str(cv_scores_knn_train))\n",
    "print ('Standard deviation in cv scores: ' +str(cv_scores_std_knn))\n"
   ]
  },
  {
   "cell_type": "code",
   "execution_count": 17,
   "id": "55ca568d",
   "metadata": {},
   "outputs": [
    {
     "name": "stdout",
     "output_type": "stream",
     "text": [
      "                 Model Recall Precision   ROC-AOC\n",
      "0  Logistic Regression    0.5  0.441667  0.511905\n",
      "1                  KNN   0.45  0.641667  0.672619\n"
     ]
    }
   ],
   "source": [
    "j=1\n",
    "table.loc[j] = ['KNN', cv_recall_knn_test, cv_precision_knn_test , cv_scores_knn_test]\n",
    "print(table)\n",
    "j+=1"
   ]
  },
  {
   "cell_type": "markdown",
   "id": "14139bba",
   "metadata": {},
   "source": [
    "### Something seems strange here with an outlier model\n",
    "\n",
    "Good choice to gridsearch?"
   ]
  },
  {
   "cell_type": "code",
   "execution_count": null,
   "id": "fc9d53ff",
   "metadata": {},
   "outputs": [],
   "source": []
  },
  {
   "cell_type": "markdown",
   "id": "b1d1bb63",
   "metadata": {},
   "source": [
    "## SVM"
   ]
  },
  {
   "cell_type": "code",
   "execution_count": 87,
   "id": "d9a00210",
   "metadata": {},
   "outputs": [
    {
     "name": "stdout",
     "output_type": "stream",
     "text": [
      "[[22  5]\n",
      " [14  6]]\n"
     ]
    }
   ],
   "source": [
    "from sklearn.svm import SVC\n",
    "pipeline = Pipeline(steps = [\n",
    "               ('preprocessor', preprocessor)\n",
    "              ,('regressor', SVC(kernel='linear'))\n",
    "           ])\n",
    "svm = pipeline.fit(X_train, y_train)\n",
    "\n",
    "# Predict using model:\n",
    "\n",
    "y_predict_svm = pipeline.predict(X_test)\n",
    "#Confusion matrix:\n",
    "\n",
    "cnf_matrix = confusion_matrix(y_test, y_predict_svm)\n",
    "print(cnf_matrix)\n"
   ]
  },
  {
   "cell_type": "code",
   "execution_count": 90,
   "id": "7084bdc9",
   "metadata": {},
   "outputs": [
    {
     "name": "stdout",
     "output_type": "stream",
     "text": [
      "[0.62857143 0.62857143 0.42857143 0.83333333]\n",
      "Mean cross validation test score: 0.6297619047619047\n",
      "Mean cross validation train score: 0.5938415750915751\n",
      "Standard deviation in cv scores: 0.1431098954540557\n"
     ]
    }
   ],
   "source": [
    "cv_scores_test= cross_val_score(pipeline,X_test,y_test,cv=4,scoring='roc_auc')\n",
    "cv_scores_train= cross_val_score(pipeline,X_train,y_train,cv=4,scoring='roc_auc')\n",
    "print(cv_scores_test)\n",
    "cv_scores_svm_test= cv_scores_test.mean()\n",
    "cv_precision_svm_test = cross_val_score(pipeline, X_test,y_test,cv=4,scoring='precision').mean()\n",
    "cv_recall_svm_test = cross_val_score(pipeline, X_test,y_test,cv=4,scoring='recall').mean()\n",
    "cv_scores_svm_train= cv_scores_train.mean()\n",
    "cv_scores_std_svm= cv_scores_test.std()\n",
    "print ('Mean cross validation test score: ' +str(cv_scores_svm_test))\n",
    "print ('Mean cross validation train score: ' +str(cv_scores_svm_train))\n",
    "print ('Standard deviation in cv scores: ' +str(cv_scores_std_svm))"
   ]
  },
  {
   "cell_type": "code",
   "execution_count": 91,
   "id": "bd9817be",
   "metadata": {},
   "outputs": [
    {
     "name": "stdout",
     "output_type": "stream",
     "text": [
      "                 Model Recall Precision ROC-AOC\n",
      "0  Logistic Regression    0.5    0.4417  0.5119\n",
      "1                  KNN   0.45    0.6417  0.6726\n",
      "2                  SVM    0.6    0.6083  0.6233\n",
      "3        Random Forest    0.4     0.475  0.5286\n",
      "4    Gradient Boosting   0.35    0.5083  0.5726\n",
      "5                  SVM    0.6    0.6083  0.6298\n"
     ]
    }
   ],
   "source": [
    "table.loc[j] = ['SVM', cv_recall_svm_test, cv_precision_svm_test , cv_scores_svm_test]\n",
    "print(table)\n",
    "j+=1"
   ]
  },
  {
   "cell_type": "markdown",
   "id": "019e6775",
   "metadata": {},
   "source": [
    "Again there seem to be cuts that perform badly"
   ]
  },
  {
   "cell_type": "markdown",
   "id": "17c1f4bc",
   "metadata": {},
   "source": [
    "## Random Forest"
   ]
  },
  {
   "cell_type": "code",
   "execution_count": 21,
   "id": "27a01cac",
   "metadata": {},
   "outputs": [
    {
     "name": "stdout",
     "output_type": "stream",
     "text": [
      "[[22  5]\n",
      " [15  5]]\n",
      "0.574468085106383\n"
     ]
    }
   ],
   "source": [
    "from sklearn.ensemble import RandomForestClassifier\n",
    "pipeline = Pipeline(steps = [\n",
    "               ('preprocessor', preprocessor)\n",
    "              ,('regressor', RandomForestClassifier(bootstrap=True,n_estimators=40,criterion='entropy', max_depth=4))\n",
    "           ])\n",
    "rf = pipeline.fit(X_train, y_train)\n",
    "\n",
    "\n",
    "#Predict using the model:\n",
    "\n",
    "y_predict_rf = rf.predict(X_test)\n",
    "\n",
    "#Confusion matrix:\n",
    "\n",
    "cnf_matrix = confusion_matrix(y_test, y_predict_rf)\n",
    "print(cnf_matrix)\n",
    "Accuracy_rf=rf.score(X_test,y_test)\n",
    "print(Accuracy_rf)\n"
   ]
  },
  {
   "cell_type": "code",
   "execution_count": 22,
   "id": "5c5409ab",
   "metadata": {},
   "outputs": [
    {
     "data": {
      "text/plain": [
       "array([0.02580614, 0.04588542, 0.0444811 , 0.08551163, 0.03077935,\n",
       "       0.02456176, 0.00814042, 0.04812261, 0.05613158, 0.04700774,\n",
       "       0.08463369, 0.0711452 , 0.08981666, 0.        , 0.01207661,\n",
       "       0.00706823, 0.00520275, 0.00921811, 0.        , 0.00863687,\n",
       "       0.00613302, 0.01187422, 0.0126243 , 0.00150321, 0.01975446,\n",
       "       0.01711534, 0.00239322, 0.        , 0.00287581, 0.00300757,\n",
       "       0.00189809, 0.        , 0.00180823, 0.01048181, 0.        ,\n",
       "       0.        , 0.00859463, 0.        , 0.00116406, 0.00071771,\n",
       "       0.0009927 , 0.00151197, 0.00110931, 0.00356223, 0.00756673,\n",
       "       0.00274032, 0.00488908, 0.00847382, 0.        , 0.00360986,\n",
       "       0.0019375 , 0.        , 0.        , 0.        , 0.        ,\n",
       "       0.00352835, 0.        , 0.00316731, 0.        , 0.        ,\n",
       "       0.00303952, 0.00081692, 0.00061892, 0.        , 0.00114006,\n",
       "       0.00568888, 0.        , 0.00199975, 0.00486629, 0.0090647 ,\n",
       "       0.00449924, 0.00108632, 0.        , 0.        , 0.        ,\n",
       "       0.00583797, 0.00231312, 0.        , 0.        , 0.00437179,\n",
       "       0.00250287, 0.        , 0.0195127 , 0.00124776, 0.00132044,\n",
       "       0.        , 0.00522516, 0.03753085, 0.        , 0.        ,\n",
       "       0.        , 0.        , 0.00027639, 0.00657793, 0.02246683,\n",
       "       0.0018024 , 0.00405719, 0.        , 0.00287525])"
      ]
     },
     "execution_count": 22,
     "metadata": {},
     "output_type": "execute_result"
    }
   ],
   "source": [
    "rf['regressor'].feature_importances_"
   ]
  },
  {
   "cell_type": "code",
   "execution_count": 23,
   "id": "1613c727",
   "metadata": {},
   "outputs": [
    {
     "name": "stdout",
     "output_type": "stream",
     "text": [
      "[0.54285714 0.54285714 0.42857143 0.6       ]\n",
      "Mean cross validation test score: 0.5285714285714287\n",
      "Mean cross validation train score: 0.5798763736263737\n",
      "Standard deviation in cv scores: 0.062269984907723924\n"
     ]
    }
   ],
   "source": [
    "cv_scores_test= cross_val_score(rf,X_test,y_test,cv=4,scoring='roc_auc')\n",
    "cv_scores_train= cross_val_score(rf,X_train,y_train,cv=4,scoring='roc_auc')\n",
    "print(cv_scores_test)\n",
    "cv_scores_rf_test= cv_scores_test.mean()\n",
    "cv_precision_rf_test = cross_val_score(rf, X_test,y_test,cv=4,scoring='precision').mean()\n",
    "cv_recall_rf_test = cross_val_score(rf, X_test,y_test,cv=4,scoring='recall').mean()\n",
    "cv_scores_rf_train= cv_scores_train.mean()\n",
    "cv_scores_std_rf= cv_scores_test.std()\n",
    "print ('Mean cross validation test score: ' +str(cv_scores_rf_test))\n",
    "print ('Mean cross validation train score: ' +str(cv_scores_rf_train))\n",
    "print ('Standard deviation in cv scores: ' +str(cv_scores_std_rf))"
   ]
  },
  {
   "cell_type": "code",
   "execution_count": 24,
   "id": "22a5cfb7",
   "metadata": {},
   "outputs": [
    {
     "name": "stdout",
     "output_type": "stream",
     "text": [
      "                 Model Recall Precision   ROC-AOC\n",
      "0  Logistic Regression    0.5  0.441667  0.511905\n",
      "1                  KNN   0.45  0.641667  0.672619\n",
      "2                  SVM    0.6  0.608333  0.623333\n",
      "3        Random Forest    0.4     0.475  0.528571\n"
     ]
    }
   ],
   "source": [
    "table.loc[j] = ['Random Forest', cv_recall_rf_test, cv_precision_rf_test , cv_scores_rf_test]\n",
    "print(table)\n",
    "j+=1"
   ]
  },
  {
   "cell_type": "markdown",
   "id": "93fa6747",
   "metadata": {},
   "source": [
    "RF seems far more consistent but performs generally worse. Average with it maybe?"
   ]
  },
  {
   "cell_type": "markdown",
   "id": "f1eed780",
   "metadata": {},
   "source": [
    "## Gradient Boosting"
   ]
  },
  {
   "cell_type": "code",
   "execution_count": 25,
   "id": "f6747e08",
   "metadata": {},
   "outputs": [
    {
     "name": "stdout",
     "output_type": "stream",
     "text": [
      "[[22  5]\n",
      " [12  8]]\n",
      "0.6382978723404256\n"
     ]
    }
   ],
   "source": [
    "from sklearn.ensemble import ExtraTreesClassifier, GradientBoostingClassifier\n",
    "pipeline = Pipeline(steps = [\n",
    "               ('preprocessor', preprocessor)\n",
    "              ,('regressor',  GradientBoostingClassifier(subsample=0.8, learning_rate=0.01 , n_estimators=100, random_state=5, max_depth=4, max_leaf_nodes=30))\n",
    "           ])\n",
    "gbc = pipeline.fit(X_train, y_train)\n",
    "\n",
    "#Predict using the model:\n",
    "\n",
    "y_predict_gbc = gbc.predict(X_test)\n",
    "\n",
    "#Confusion matrix:\n",
    "\n",
    "cnf_matrix = confusion_matrix(y_test, y_predict_gbc)\n",
    "print(cnf_matrix)\n",
    "Accuracy_gbc=gbc.score(X_test,y_test)\n",
    "print(Accuracy_gbc)"
   ]
  },
  {
   "cell_type": "code",
   "execution_count": 26,
   "id": "7506b9c8",
   "metadata": {},
   "outputs": [
    {
     "name": "stdout",
     "output_type": "stream",
     "text": [
      "[0.4        0.6        0.65714286 0.63333333]\n",
      "Mean cross validation test score: 0.5726190476190476\n",
      "Mean cross validation train score: 0.582257326007326\n",
      "Standard deviation in cv scores: 0.1017073633278439\n"
     ]
    }
   ],
   "source": [
    "cv_scores_test= cross_val_score(gbc,X_test,y_test,cv=4,scoring='roc_auc')\n",
    "cv_scores_train= cross_val_score(gbc,X_train,y_train,cv=4,scoring='roc_auc')\n",
    "print(cv_scores_test)\n",
    "cv_scores_gbc_test= cv_scores_test.mean()\n",
    "cv_precision_gbc_test = cross_val_score(gbc, X_test,y_test,cv=4,scoring='precision').mean()\n",
    "cv_recall_gbc_test = cross_val_score(gbc, X_test,y_test,cv=4,scoring='recall').mean()\n",
    "cv_scores_gbc_train= cv_scores_train.mean()\n",
    "cv_scores_std_gbc= cv_scores_test.std()\n",
    "print ('Mean cross validation test score: ' +str(cv_scores_gbc_test))\n",
    "print ('Mean cross validation train score: ' +str(cv_scores_gbc_train))\n",
    "print ('Standard deviation in cv scores: ' +str(cv_scores_std_gbc))"
   ]
  },
  {
   "cell_type": "code",
   "execution_count": 27,
   "id": "424695dc",
   "metadata": {
    "scrolled": true
   },
   "outputs": [
    {
     "name": "stdout",
     "output_type": "stream",
     "text": [
      "                 Model Recall Precision   ROC-AOC\n",
      "0  Logistic Regression    0.5  0.441667  0.511905\n",
      "1                  KNN   0.45  0.641667  0.672619\n",
      "2                  SVM    0.6  0.608333  0.623333\n",
      "3        Random Forest    0.4     0.475  0.528571\n",
      "4    Gradient Boosting   0.35  0.508333  0.572619\n"
     ]
    }
   ],
   "source": [
    "table.loc[j] = ['Gradient Boosting', cv_recall_gbc_test, cv_precision_gbc_test , cv_scores_gbc_test]\n",
    "print(table)\n",
    "j+=1"
   ]
  },
  {
   "cell_type": "code",
   "execution_count": 28,
   "id": "3289679b",
   "metadata": {
    "scrolled": true
   },
   "outputs": [
    {
     "data": {
      "text/html": [
       "<div>\n",
       "<style scoped>\n",
       "    .dataframe tbody tr th:only-of-type {\n",
       "        vertical-align: middle;\n",
       "    }\n",
       "\n",
       "    .dataframe tbody tr th {\n",
       "        vertical-align: top;\n",
       "    }\n",
       "\n",
       "    .dataframe thead th {\n",
       "        text-align: right;\n",
       "    }\n",
       "</style>\n",
       "<table border=\"1\" class=\"dataframe\">\n",
       "  <thead>\n",
       "    <tr style=\"text-align: right;\">\n",
       "      <th></th>\n",
       "      <th>Model</th>\n",
       "      <th>Recall</th>\n",
       "      <th>Precision</th>\n",
       "      <th>ROC-AOC</th>\n",
       "    </tr>\n",
       "  </thead>\n",
       "  <tbody>\n",
       "    <tr>\n",
       "      <th>0</th>\n",
       "      <td>Logistic Regression</td>\n",
       "      <td>0.5</td>\n",
       "      <td>0.441667</td>\n",
       "      <td>0.511905</td>\n",
       "    </tr>\n",
       "    <tr>\n",
       "      <th>1</th>\n",
       "      <td>KNN</td>\n",
       "      <td>0.45</td>\n",
       "      <td>0.641667</td>\n",
       "      <td>0.672619</td>\n",
       "    </tr>\n",
       "    <tr>\n",
       "      <th>2</th>\n",
       "      <td>SVM</td>\n",
       "      <td>0.6</td>\n",
       "      <td>0.608333</td>\n",
       "      <td>0.623333</td>\n",
       "    </tr>\n",
       "    <tr>\n",
       "      <th>3</th>\n",
       "      <td>Random Forest</td>\n",
       "      <td>0.4</td>\n",
       "      <td>0.475</td>\n",
       "      <td>0.528571</td>\n",
       "    </tr>\n",
       "    <tr>\n",
       "      <th>4</th>\n",
       "      <td>Gradient Boosting</td>\n",
       "      <td>0.35</td>\n",
       "      <td>0.508333</td>\n",
       "      <td>0.572619</td>\n",
       "    </tr>\n",
       "  </tbody>\n",
       "</table>\n",
       "</div>"
      ],
      "text/plain": [
       "                 Model Recall Precision   ROC-AOC\n",
       "0  Logistic Regression    0.5  0.441667  0.511905\n",
       "1                  KNN   0.45  0.641667  0.672619\n",
       "2                  SVM    0.6  0.608333  0.623333\n",
       "3        Random Forest    0.4     0.475  0.528571\n",
       "4    Gradient Boosting   0.35  0.508333  0.572619"
      ]
     },
     "execution_count": 28,
     "metadata": {},
     "output_type": "execute_result"
    }
   ],
   "source": [
    "table"
   ]
  },
  {
   "cell_type": "markdown",
   "id": "78031528",
   "metadata": {},
   "source": [
    "## Compare Models\n",
    "First let's see what we have so far."
   ]
  },
  {
   "cell_type": "code",
   "execution_count": 29,
   "id": "983ae769",
   "metadata": {
    "scrolled": false
   },
   "outputs": [
    {
     "data": {
      "text/html": [
       "<div>\n",
       "<style scoped>\n",
       "    .dataframe tbody tr th:only-of-type {\n",
       "        vertical-align: middle;\n",
       "    }\n",
       "\n",
       "    .dataframe tbody tr th {\n",
       "        vertical-align: top;\n",
       "    }\n",
       "\n",
       "    .dataframe thead th {\n",
       "        text-align: right;\n",
       "    }\n",
       "</style>\n",
       "<table border=\"1\" class=\"dataframe\">\n",
       "  <thead>\n",
       "    <tr style=\"text-align: right;\">\n",
       "      <th></th>\n",
       "      <th>Algorithm</th>\n",
       "      <th>ROC-AUC train score</th>\n",
       "      <th>ROC-AUC test score</th>\n",
       "      <th>ROC-AUC test std</th>\n",
       "      <th>Recall test</th>\n",
       "      <th>Precision test</th>\n",
       "    </tr>\n",
       "  </thead>\n",
       "  <tbody>\n",
       "    <tr>\n",
       "      <th>0</th>\n",
       "      <td>Logistic Regression</td>\n",
       "      <td>0.609158</td>\n",
       "      <td>0.511905</td>\n",
       "      <td>0.111955</td>\n",
       "      <td>0.50</td>\n",
       "      <td>0.441667</td>\n",
       "    </tr>\n",
       "    <tr>\n",
       "      <th>1</th>\n",
       "      <td>KNN</td>\n",
       "      <td>0.510451</td>\n",
       "      <td>0.672619</td>\n",
       "      <td>0.144881</td>\n",
       "      <td>0.45</td>\n",
       "      <td>0.641667</td>\n",
       "    </tr>\n",
       "    <tr>\n",
       "      <th>2</th>\n",
       "      <td>SVM</td>\n",
       "      <td>0.575399</td>\n",
       "      <td>0.623333</td>\n",
       "      <td>0.138484</td>\n",
       "      <td>0.60</td>\n",
       "      <td>0.608333</td>\n",
       "    </tr>\n",
       "    <tr>\n",
       "      <th>3</th>\n",
       "      <td>Random Forest</td>\n",
       "      <td>0.579876</td>\n",
       "      <td>0.528571</td>\n",
       "      <td>0.062270</td>\n",
       "      <td>0.40</td>\n",
       "      <td>0.475000</td>\n",
       "    </tr>\n",
       "    <tr>\n",
       "      <th>4</th>\n",
       "      <td>Gradient Boost</td>\n",
       "      <td>0.582257</td>\n",
       "      <td>0.572619</td>\n",
       "      <td>0.101707</td>\n",
       "      <td>0.35</td>\n",
       "      <td>0.508333</td>\n",
       "    </tr>\n",
       "  </tbody>\n",
       "</table>\n",
       "</div>"
      ],
      "text/plain": [
       "             Algorithm  ROC-AUC train score  ROC-AUC test score  \\\n",
       "0  Logistic Regression             0.609158            0.511905   \n",
       "1                  KNN             0.510451            0.672619   \n",
       "2                  SVM             0.575399            0.623333   \n",
       "3        Random Forest             0.579876            0.528571   \n",
       "4       Gradient Boost             0.582257            0.572619   \n",
       "\n",
       "   ROC-AUC test std  Recall test  Precision test  \n",
       "0          0.111955         0.50        0.441667  \n",
       "1          0.144881         0.45        0.641667  \n",
       "2          0.138484         0.60        0.608333  \n",
       "3          0.062270         0.40        0.475000  \n",
       "4          0.101707         0.35        0.508333  "
      ]
     },
     "execution_count": 29,
     "metadata": {},
     "output_type": "execute_result"
    }
   ],
   "source": [
    "myLabels = [ 'Logistic Regression','KNN','SVM','Random Forest','Gradient Boost']\n",
    "score_test= [  cv_scores_lr_test,cv_scores_knn_test,cv_scores_svm_test,cv_scores_rf_test,cv_scores_gbc_test]\n",
    "score_train= [  cv_scores_lr_train,cv_scores_knn_train,cv_scores_svm_train,cv_scores_rf_train,cv_scores_gbc_train]\n",
    "std_test= [  cv_scores_std_lr,cv_scores_std_knn,cv_scores_std_svm,cv_scores_std_rf,cv_scores_std_gbc]\n",
    "\n",
    "#score_tab_acc = pd.DataFrame(list(zip(myLabels, Accuracy_score)), \n",
    "               #columns =['Algorithm', 'Model accuracy score']) \n",
    "\n",
    "score_tab = pd.DataFrame(list(zip(myLabels, score_train, score_test, std_test, table.Recall, table.Precision)), \n",
    "               columns =['Algorithm', 'ROC-AUC train score', 'ROC-AUC test score',  'ROC-AUC test std', 'Recall test', 'Precision test']) \n",
    "#print(score_tab_acc)\n",
    "\n",
    "score_tab"
   ]
  },
  {
   "cell_type": "markdown",
   "id": "f58154df",
   "metadata": {},
   "source": [
    "It's hard to see what will work best here but Random Forest seems like a good possibility. \n",
    "The only one not looking so good is Logistic Regression. \n",
    "First GridSearch on Random Forest"
   ]
  },
  {
   "cell_type": "code",
   "execution_count": 30,
   "id": "0f924031",
   "metadata": {},
   "outputs": [
    {
     "data": {
      "text/plain": [
       "0.6111111111111112"
      ]
     },
     "execution_count": 30,
     "metadata": {},
     "output_type": "execute_result"
    }
   ],
   "source": [
    "from sklearn.model_selection import GridSearchCV\n",
    "param_grid = { 'max_depth': [4, 5, 6, None],\n",
    " 'min_samples_leaf': [1, 2, 4, 6],\n",
    " 'min_samples_split': [2, 5, 10],\n",
    " 'n_estimators': [100, 200, 400, 1000]}\n",
    "pipeline = Pipeline(steps = [\n",
    "               ('preprocessor', preprocessor)\n",
    "              ,('regressor',  GridSearchCV(RandomForestClassifier(), cv=4, n_jobs=-1, param_grid=param_grid , scoring='roc_auc', refit=True))\n",
    "           ])\n",
    "\n",
    "\n",
    "\n",
    "\n",
    "pipeline.fit(X_train, y_train)\n",
    "pipeline.score(X_test, y_test)"
   ]
  },
  {
   "cell_type": "code",
   "execution_count": 31,
   "id": "82dd91e2",
   "metadata": {},
   "outputs": [
    {
     "name": "stdout",
     "output_type": "stream",
     "text": [
      "RandomForestClassifier(max_depth=4, min_samples_leaf=6, min_samples_split=10)\n",
      "0.6225503663003663\n",
      "GridSearchCV(cv=4, estimator=RandomForestClassifier(), n_jobs=-1,\n",
      "             param_grid={'max_depth': [4, 5, 6, None],\n",
      "                         'min_samples_leaf': [1, 2, 4, 6],\n",
      "                         'min_samples_split': [2, 5, 10],\n",
      "                         'n_estimators': [100, 200, 400, 1000]},\n",
      "             scoring='roc_auc')\n"
     ]
    }
   ],
   "source": [
    "print(pipeline['regressor'].best_estimator_) \n",
    "print(pipeline['regressor'].best_score_)\n",
    "print(pipeline['regressor'])"
   ]
  },
  {
   "cell_type": "code",
   "execution_count": 32,
   "id": "4b7b1b47",
   "metadata": {},
   "outputs": [
    {
     "data": {
      "text/plain": [
       "0.3"
      ]
     },
     "execution_count": 32,
     "metadata": {},
     "output_type": "execute_result"
    }
   ],
   "source": [
    "# Try again with scoring as Recall\n",
    "param_grid = { 'max_depth': [4, 5, 6, None],\n",
    " 'min_samples_leaf': [1, 2, 4, 6],\n",
    " 'min_samples_split': [2, 5, 10],\n",
    " 'n_estimators': [100, 200, 400, 1000]}\n",
    "pipeline = Pipeline(steps = [\n",
    "               ('preprocessor', preprocessor)\n",
    "              ,('regressor',  GridSearchCV(RandomForestClassifier(), cv=4, n_jobs=-1, param_grid=param_grid , scoring='recall', refit=True))\n",
    "           ])\n",
    "\n",
    "\n",
    "\n",
    "\n",
    "pipeline.fit(X_train, y_train)\n",
    "pipeline.score(X_test, y_test)"
   ]
  },
  {
   "cell_type": "code",
   "execution_count": 33,
   "id": "bebb977f",
   "metadata": {},
   "outputs": [
    {
     "name": "stdout",
     "output_type": "stream",
     "text": [
      "RandomForestClassifier(min_samples_split=10)\n",
      "0.481547619047619\n"
     ]
    }
   ],
   "source": [
    "print(pipeline['regressor'].best_estimator_) \n",
    "print(pipeline['regressor'].best_score_)"
   ]
  },
  {
   "cell_type": "code",
   "execution_count": 34,
   "id": "98498ecf",
   "metadata": {},
   "outputs": [
    {
     "data": {
      "text/plain": [
       "0.5851851851851853"
      ]
     },
     "execution_count": 34,
     "metadata": {},
     "output_type": "execute_result"
    }
   ],
   "source": [
    "param_grid = { 'C': [1, 10], \n",
    "          'gamma': [0.001, 0.01, 1]}\n",
    "pipeline = Pipeline(steps = [\n",
    "               ('preprocessor', preprocessor)\n",
    "              ,('regressor',  GridSearchCV(SVC(kernel='linear'), cv=4, n_jobs=-1, param_grid=param_grid , scoring='roc_auc', refit=True))\n",
    "           ])\n",
    "\n",
    "\n",
    "\n",
    "\n",
    "pipeline.fit(X_train, y_train)\n",
    "pipeline.score(X_test, y_test)\n"
   ]
  },
  {
   "cell_type": "code",
   "execution_count": 35,
   "id": "963cd2a3",
   "metadata": {},
   "outputs": [
    {
     "name": "stdout",
     "output_type": "stream",
     "text": [
      "SVC(C=1, gamma=0.001, kernel='linear')\n",
      "0.5943223443223443\n",
      "GridSearchCV(cv=4, estimator=SVC(kernel='linear'), n_jobs=-1,\n",
      "             param_grid={'C': [1, 10], 'gamma': [0.001, 0.01, 1]},\n",
      "             scoring='roc_auc')\n"
     ]
    }
   ],
   "source": [
    "print(pipeline['regressor'].best_estimator_) \n",
    "print(pipeline['regressor'].best_score_)\n",
    "print(pipeline['regressor'])"
   ]
  },
  {
   "cell_type": "code",
   "execution_count": 36,
   "id": "d42c9408",
   "metadata": {},
   "outputs": [
    {
     "data": {
      "text/plain": [
       "0.35"
      ]
     },
     "execution_count": 36,
     "metadata": {},
     "output_type": "execute_result"
    }
   ],
   "source": [
    "param_grid = { 'C': [1, 10], \n",
    "          'gamma': [0.001, 0.01, 1]}\n",
    "pipeline = Pipeline(steps = [\n",
    "               ('preprocessor', preprocessor)\n",
    "              ,('regressor',  GridSearchCV(SVC(kernel='linear'), cv=4, n_jobs=-1, param_grid=param_grid , scoring='recall', refit=True))\n",
    "           ])\n",
    "\n",
    "\n",
    "\n",
    "\n",
    "pipeline.fit(X_train, y_train)\n",
    "pipeline.score(X_test, y_test)"
   ]
  },
  {
   "cell_type": "code",
   "execution_count": 37,
   "id": "03a1ced9",
   "metadata": {},
   "outputs": [
    {
     "name": "stdout",
     "output_type": "stream",
     "text": [
      "SVC(C=10, gamma=0.001, kernel='linear')\n",
      "0.5059523809523809\n"
     ]
    }
   ],
   "source": [
    "print(pipeline['regressor'].best_estimator_) \n",
    "print(pipeline['regressor'].best_score_)"
   ]
  },
  {
   "cell_type": "markdown",
   "id": "a724fdb3",
   "metadata": {},
   "source": [
    "SVC does not look better.\n",
    "Next is Gradient Boosting."
   ]
  },
  {
   "cell_type": "code",
   "execution_count": 38,
   "id": "a767002b",
   "metadata": {},
   "outputs": [
    {
     "data": {
      "text/plain": [
       "0.6481481481481481"
      ]
     },
     "execution_count": 38,
     "metadata": {},
     "output_type": "execute_result"
    }
   ],
   "source": [
    "param_grid = { 'max_depth': [4, 5, 6, None],\n",
    " 'learning_rate': [0.01, 0.025, 0.05, 0.075, 0.1, 0.15, 0.2],\n",
    " 'min_samples_leaf': [1, 2, 4, 6],\n",
    " 'min_samples_split': [2, 5, 10, 20],\n",
    " 'n_estimators': [10, 40, 100]}\n",
    "pipeline =  Pipeline(steps = [\n",
    "               ('preprocessor', preprocessor)\n",
    "              ,('regressor',  GridSearchCV(GradientBoostingClassifier(), cv=4, n_jobs=-1, param_grid=param_grid , scoring='roc_auc', refit=True))\n",
    "           ])\n",
    "\n",
    "\n",
    "\n",
    "pipeline.fit(X_train, y_train)\n",
    "pipeline.score(X_test, y_test)"
   ]
  },
  {
   "cell_type": "code",
   "execution_count": 39,
   "id": "f4bb6229",
   "metadata": {},
   "outputs": [
    {
     "name": "stdout",
     "output_type": "stream",
     "text": [
      "GradientBoostingClassifier(learning_rate=0.01, max_depth=6, min_samples_leaf=4,\n",
      "                           min_samples_split=20, n_estimators=40)\n",
      "0.6326350732600734\n",
      "GridSearchCV(cv=4, estimator=GradientBoostingClassifier(), n_jobs=-1,\n",
      "             param_grid={'learning_rate': [0.01, 0.025, 0.05, 0.075, 0.1, 0.15,\n",
      "                                           0.2],\n",
      "                         'max_depth': [4, 5, 6, None],\n",
      "                         'min_samples_leaf': [1, 2, 4, 6],\n",
      "                         'min_samples_split': [2, 5, 10, 20],\n",
      "                         'n_estimators': [10, 40, 100]},\n",
      "             scoring='roc_auc')\n"
     ]
    }
   ],
   "source": [
    "print(pipeline['regressor'].best_estimator_) \n",
    "print(pipeline['regressor'].best_score_)\n",
    "print(pipeline['regressor'])"
   ]
  },
  {
   "cell_type": "code",
   "execution_count": 40,
   "id": "ac96be54",
   "metadata": {},
   "outputs": [
    {
     "data": {
      "text/plain": [
       "0.4"
      ]
     },
     "execution_count": 40,
     "metadata": {},
     "output_type": "execute_result"
    }
   ],
   "source": [
    "param_grid = { 'max_depth': [4, 5, 6, None],\n",
    " 'learning_rate': [0.01, 0.025, 0.05, 0.075, 0.1, 0.15, 0.2],\n",
    " 'min_samples_leaf': [1, 2, 4, 6],\n",
    " 'min_samples_split': [2, 5, 10, 20],\n",
    " 'n_estimators': [10, 40, 100]}\n",
    "pipeline =  Pipeline(steps = [\n",
    "               ('preprocessor', preprocessor)\n",
    "              ,('regressor',  GridSearchCV(GradientBoostingClassifier(), cv=4, n_jobs=-1, param_grid=param_grid , scoring='recall', refit=True))\n",
    "           ])\n",
    "\n",
    "\n",
    "\n",
    "pipeline.fit(X_train, y_train)\n",
    "pipeline.score(X_test, y_test)"
   ]
  },
  {
   "cell_type": "code",
   "execution_count": 41,
   "id": "6048acc3",
   "metadata": {},
   "outputs": [
    {
     "name": "stdout",
     "output_type": "stream",
     "text": [
      "GradientBoostingClassifier(learning_rate=0.15, max_depth=6, min_samples_leaf=6,\n",
      "                           min_samples_split=10, n_estimators=40)\n",
      "0.594047619047619\n"
     ]
    }
   ],
   "source": [
    "print(pipeline['regressor'].best_estimator_) \n",
    "print(pipeline['regressor'].best_score_)"
   ]
  },
  {
   "cell_type": "markdown",
   "id": "7bd4a2b9",
   "metadata": {},
   "source": [
    "Not suprisingly this turns out very close to Random Forest. \n",
    "Just to be thorough lets tune KNN"
   ]
  },
  {
   "cell_type": "code",
   "execution_count": 42,
   "id": "c9ebc1f9",
   "metadata": {},
   "outputs": [
    {
     "data": {
      "text/plain": [
       "0.6518518518518519"
      ]
     },
     "execution_count": 42,
     "metadata": {},
     "output_type": "execute_result"
    }
   ],
   "source": [
    "param_grid = { 'n_neighbors': [3, 5, 7, 9, 12,15,17],\n",
    "    'weights': ['uniform', 'distance'],\n",
    "    'metric': ['euclidean', 'manhattan']}\n",
    "pipeline =  Pipeline(steps = [\n",
    "               ('preprocessor', preprocessor)\n",
    "              ,('regressor',  GridSearchCV(KNeighborsClassifier(), cv=4, n_jobs=-1, param_grid=param_grid , scoring='roc_auc', refit=True))\n",
    "           ])\n",
    "\n",
    "\n",
    "\n",
    "pipeline.fit(X_train, y_train)\n",
    "pipeline.score(X_test, y_test)"
   ]
  },
  {
   "cell_type": "code",
   "execution_count": 43,
   "id": "38a0e207",
   "metadata": {},
   "outputs": [
    {
     "name": "stdout",
     "output_type": "stream",
     "text": [
      "KNeighborsClassifier(metric='manhattan', n_neighbors=17, weights='distance')\n",
      "0.6128891941391941\n",
      "GridSearchCV(cv=4, estimator=KNeighborsClassifier(), n_jobs=-1,\n",
      "             param_grid={'metric': ['euclidean', 'manhattan'],\n",
      "                         'n_neighbors': [3, 5, 7, 9, 12, 15, 17],\n",
      "                         'weights': ['uniform', 'distance']},\n",
      "             scoring='roc_auc')\n"
     ]
    }
   ],
   "source": [
    "print(pipeline['regressor'].best_estimator_) \n",
    "print(pipeline['regressor'].best_score_)\n",
    "print(pipeline['regressor'])"
   ]
  },
  {
   "cell_type": "code",
   "execution_count": 44,
   "id": "c0169e51",
   "metadata": {},
   "outputs": [
    {
     "data": {
      "text/plain": [
       "0.4"
      ]
     },
     "execution_count": 44,
     "metadata": {},
     "output_type": "execute_result"
    }
   ],
   "source": [
    "param_grid = { 'n_neighbors': [3, 5, 7, 9, 12,15,17],\n",
    "    'weights': ['uniform', 'distance'],\n",
    "    'metric': ['euclidean', 'manhattan']}\n",
    "pipeline =  Pipeline(steps = [\n",
    "               ('preprocessor', preprocessor)\n",
    "              ,('regressor',  GridSearchCV(KNeighborsClassifier(), cv=4, n_jobs=-1, param_grid=param_grid , scoring='recall', refit=True))\n",
    "           ])\n",
    "\n",
    "\n",
    "\n",
    "pipeline.fit(X_train, y_train)\n",
    "pipeline.score(X_test, y_test)"
   ]
  },
  {
   "cell_type": "code",
   "execution_count": 45,
   "id": "d4472864",
   "metadata": {},
   "outputs": [
    {
     "name": "stdout",
     "output_type": "stream",
     "text": [
      "KNeighborsClassifier(metric='euclidean', n_neighbors=3, weights='distance')\n",
      "0.469047619047619\n"
     ]
    }
   ],
   "source": [
    "print(pipeline['regressor'].best_estimator_) \n",
    "print(pipeline['regressor'].best_score_)"
   ]
  },
  {
   "cell_type": "markdown",
   "id": "ee5456bf",
   "metadata": {},
   "source": [
    "### Fit RF ,  GB and KNN\n",
    "Random Forest first.\n"
   ]
  },
  {
   "cell_type": "code",
   "execution_count": 46,
   "id": "6991fd84",
   "metadata": {},
   "outputs": [
    {
     "name": "stdout",
     "output_type": "stream",
     "text": [
      "Accuracy:  0.5957446808510638\n",
      "Recall:  0.25\n",
      "ROC-AUC 0.5566666666666666\n"
     ]
    }
   ],
   "source": [
    "# AOC scoring \n",
    "pipeline = Pipeline(steps = [\n",
    "               ('preprocessor', preprocessor)\n",
    "              ,('regressor', RandomForestClassifier(min_samples_leaf=4, min_samples_split=5))\n",
    "           ])\n",
    "rf = pipeline.fit(X_train, y_train)\n",
    "\n",
    "y_predictions_rf = rf.predict(X_test)\n",
    "acc = accuracy_score(y_test, y_predictions_rf)\n",
    "cv_scores_rf_test = cross_val_score(rf, X_test, y_test,scoring='roc_auc').mean()\n",
    "cv_scores_std_rf = cross_val_score(rf, X_test, y_test, scoring='roc_auc').std()\n",
    "cv_recall_rf = cross_val_score(rf, X_test, y_test,scoring='recall').mean()\n",
    "print(\"Accuracy: \", acc)\n",
    "cv_rf = cross_val_score(rf, X_test, y_test,scoring='roc_auc')\n",
    "print(\"Recall: \", cv_recall_rf)\n",
    "print(\"ROC-AUC\", cv_scores_rf_test)"
   ]
  },
  {
   "cell_type": "code",
   "execution_count": 47,
   "id": "3ad8d34f",
   "metadata": {
    "scrolled": true
   },
   "outputs": [],
   "source": [
    "feature_names = rf[:-1].get_feature_names_out()\n",
    "mdi_importances = pd.Series(rf[-1].feature_importances_, index=feature_names).sort_values(ascending=True)\n",
    "mdi_imp = mdi_importances.tail(16)\n"
   ]
  },
  {
   "cell_type": "code",
   "execution_count": 48,
   "id": "7946eacf",
   "metadata": {
    "scrolled": true
   },
   "outputs": [
    {
     "data": {
      "image/png": "[encoded data removed]",
      "text/plain": [
       "<Figure size 640x480 with 1 Axes>"
      ]
     },
     "metadata": {},
     "output_type": "display_data"
    }
   ],
   "source": [
    "ax = mdi_imp.plot.barh()\n",
    "ax.set_title(\"Random Forest Feature Importances (MDI)\")\n",
    "ax.figure.tight_layout()"
   ]
  },
  {
   "cell_type": "code",
   "execution_count": null,
   "id": "19d140a5",
   "metadata": {},
   "outputs": [],
   "source": []
  },
  {
   "cell_type": "code",
   "execution_count": 49,
   "id": "1bbbcc09",
   "metadata": {},
   "outputs": [
    {
     "name": "stdout",
     "output_type": "stream",
     "text": [
      "ROC-AUC Score: 0.6611111111111111\n"
     ]
    }
   ],
   "source": [
    "from sklearn.metrics import auc, roc_curve, roc_auc_score, precision_recall_curve\n",
    "y_scores_rf = rf.predict_proba(X_test)\n",
    "y_scores_rf = y_scores_rf[:,1]\n",
    "auroc = roc_auc_score(y_test, y_scores_rf)\n",
    "print(\"ROC-AUC Score:\", auroc)"
   ]
  },
  {
   "cell_type": "code",
   "execution_count": 50,
   "id": "53c6655c",
   "metadata": {},
   "outputs": [
    {
     "data": {
      "image/png": "[encoded data removed]",
      "text/plain": [
       "<Figure size 1000x500 with 1 Axes>"
      ]
     },
     "metadata": {},
     "output_type": "display_data"
    }
   ],
   "source": [
    "false_positive_rate, true_positive_rate, thresholds = roc_curve(y_test, y_scores_rf)\n",
    "def plot_roc_curve(false_positive_rate, true_positive_rate, label=None):\n",
    "    plt.plot(false_positive_rate, true_positive_rate, linewidth=2, label=label)\n",
    "    plt.plot([0, 1], [0, 1], 'r', linewidth=4)\n",
    "    plt.axis([0, 1, 0, 1])\n",
    "    plt.xlabel('False Positive Rate (FPR)', fontsize=15)\n",
    "    plt.ylabel('True Positive Rate (TPR)', fontsize=15)\n",
    "    \n",
    "\n",
    "plt.figure(figsize=(10, 5))\n",
    "plot_roc_curve(false_positive_rate, true_positive_rate)\n",
    "plt.title('Test ROC curve(RF)',fontsize=15)\n",
    "plt.savefig(\"30.png\")\n",
    "plt.show()"
   ]
  },
  {
   "cell_type": "markdown",
   "id": "76dc7652",
   "metadata": {},
   "source": [
    "### Next Gradient Boosting"
   ]
  },
  {
   "cell_type": "code",
   "execution_count": 51,
   "id": "d0ab7621",
   "metadata": {},
   "outputs": [
    {
     "name": "stdout",
     "output_type": "stream",
     "text": [
      "Accuracy:  0.6170212765957447\n",
      "Recall:  0.25\n",
      "ROC-AUC 0.4699999999999999\n"
     ]
    }
   ],
   "source": [
    "pipeline = Pipeline(steps = [\n",
    "               ('preprocessor', preprocessor)\n",
    "              ,('regressor', GradientBoostingClassifier(learning_rate=0.01, max_depth=6, min_samples_leaf=4,\n",
    "                           min_samples_split=20, n_estimators=40))\n",
    "           ])\n",
    "gb = pipeline.fit(X_train, y_train)\n",
    "\n",
    "y_predictions_gb = gb.predict(X_test)\n",
    "acc = accuracy_score(y_test, y_predictions_gb)\n",
    "cv_scores_gb_test = cross_val_score(gb, X_test, y_test,scoring='roc_auc').mean()\n",
    "cv_scores_std_gb = cross_val_score(gb, X_test, y_test, scoring='roc_auc').std()\n",
    "cv_recall_gb = cross_val_score(gb, X_test, y_test,scoring='recall').mean()\n",
    "print(\"Accuracy: \", acc)\n",
    "cv_rf = cross_val_score(gb, X_test, y_test,scoring='roc_auc')\n",
    "print(\"Recall: \", cv_recall_gb)\n",
    "print(\"ROC-AUC\", cv_scores_gb_test)"
   ]
  },
  {
   "cell_type": "code",
   "execution_count": 52,
   "id": "2b7df814",
   "metadata": {},
   "outputs": [],
   "source": [
    "feature_names = gb[:-1].get_feature_names_out()\n",
    "mdi_importances = pd.Series(gb[-1].feature_importances_, index=feature_names).sort_values(ascending=True)\n",
    "mdi_imp = mdi_importances.tail(16)"
   ]
  },
  {
   "cell_type": "code",
   "execution_count": 53,
   "id": "7eb710e4",
   "metadata": {},
   "outputs": [
    {
     "data": {
      "image/png": "[encoded data removed]",
      "text/plain": [
       "<Figure size 640x480 with 1 Axes>"
      ]
     },
     "metadata": {},
     "output_type": "display_data"
    }
   ],
   "source": [
    "ax = mdi_imp.plot.barh()\n",
    "ax.set_title(\"Gradient Booosting Feature Importances (MDI)\")\n",
    "ax.figure.tight_layout()"
   ]
  },
  {
   "cell_type": "code",
   "execution_count": 54,
   "id": "d8b9436a",
   "metadata": {},
   "outputs": [
    {
     "name": "stdout",
     "output_type": "stream",
     "text": [
      "ROC-AUC Score: 0.6481481481481481\n"
     ]
    }
   ],
   "source": [
    "y_scores_gb = gb.predict_proba(X_test)\n",
    "y_scores_gb = y_scores_gb[:,1]\n",
    "auroc = roc_auc_score(y_test, y_scores_gb)\n",
    "print(\"ROC-AUC Score:\", auroc)"
   ]
  },
  {
   "cell_type": "code",
   "execution_count": 55,
   "id": "0fe8268b",
   "metadata": {},
   "outputs": [
    {
     "data": {
      "image/png": "[encoded data removed]",
      "text/plain": [
       "<Figure size 1000x500 with 1 Axes>"
      ]
     },
     "metadata": {},
     "output_type": "display_data"
    }
   ],
   "source": [
    "false_positive_rate, true_positive_rate, thresholds = roc_curve(y_test, y_scores_gb)\n",
    "\n",
    "plt.figure(figsize=(10, 5))\n",
    "plot_roc_curve(false_positive_rate, true_positive_rate)\n",
    "plt.savefig(\"gb_aoc.png\")\n",
    "plt.show()"
   ]
  },
  {
   "cell_type": "markdown",
   "id": "e47bf043",
   "metadata": {},
   "source": [
    "KNN"
   ]
  },
  {
   "cell_type": "code",
   "execution_count": 56,
   "id": "85b8436a",
   "metadata": {},
   "outputs": [
    {
     "name": "stdout",
     "output_type": "stream",
     "text": [
      "0.574468085106383\n",
      "[0.58333333 0.375      0.55       0.75       0.45      ]\n"
     ]
    }
   ],
   "source": [
    "pipeline = Pipeline(steps = [\n",
    "               ('preprocessor', preprocessor)\n",
    "              ,('regressor', KNeighborsClassifier(metric='manhattan', n_neighbors=17, weights='distance'))\n",
    "           ])\n",
    "knn = pipeline.fit(X_train, y_train)\n",
    "\n",
    "y_predictions_knn = knn.predict(X_test)\n",
    "acc = accuracy_score(y_test, y_predictions_knn)\n",
    "cv_scores_knn_test = cross_val_score(knn, X_test, y_test, scoring='roc_auc').mean() \n",
    "cv_scores_std_knn = cross_val_score(knn, X_test, y_test, scoring='roc_auc').std()\n",
    "print(acc)\n",
    "cv_knn = cross_val_score(knn, X_test, y_test, scoring='roc_auc')\n",
    "print(cv_knn)"
   ]
  },
  {
   "cell_type": "code",
   "execution_count": 57,
   "id": "21328cee",
   "metadata": {},
   "outputs": [
    {
     "name": "stdout",
     "output_type": "stream",
     "text": [
      "ROC-AUC Score: 0.6518518518518519\n"
     ]
    }
   ],
   "source": [
    "y_scores_knn = knn.predict_proba(X_test)\n",
    "y_scores_knn = y_scores_knn[:,1]\n",
    "auroc = roc_auc_score(y_test, y_scores_knn)\n",
    "print(\"ROC-AUC Score:\", auroc)"
   ]
  },
  {
   "cell_type": "code",
   "execution_count": 58,
   "id": "7fad7f54",
   "metadata": {
    "scrolled": true
   },
   "outputs": [
    {
     "data": {
      "image/png": "[encoded data removed]",
      "text/plain": [
       "<Figure size 1000x500 with 1 Axes>"
      ]
     },
     "metadata": {},
     "output_type": "display_data"
    }
   ],
   "source": [
    "false_positive_rate, true_positive_rate, thresholds = roc_curve(y_test, y_scores_gb)\n",
    "\n",
    "plt.figure(figsize=(10, 5))\n",
    "plot_roc_curve(false_positive_rate, true_positive_rate)\n",
    "plt.savefig(\"gb_aoc.png\")\n",
    "plt.show()"
   ]
  },
  {
   "cell_type": "code",
   "execution_count": 59,
   "id": "7eb42fc5",
   "metadata": {
    "scrolled": false
   },
   "outputs": [
    {
     "data": {
      "text/html": [
       "<div>\n",
       "<style scoped>\n",
       "    .dataframe tbody tr th:only-of-type {\n",
       "        vertical-align: middle;\n",
       "    }\n",
       "\n",
       "    .dataframe tbody tr th {\n",
       "        vertical-align: top;\n",
       "    }\n",
       "\n",
       "    .dataframe thead th {\n",
       "        text-align: right;\n",
       "    }\n",
       "</style>\n",
       "<table border=\"1\" class=\"dataframe\">\n",
       "  <thead>\n",
       "    <tr style=\"text-align: right;\">\n",
       "      <th></th>\n",
       "      <th>Algorithm</th>\n",
       "      <th>ROC-AUC test score</th>\n",
       "      <th>ROC-AUC test std</th>\n",
       "    </tr>\n",
       "  </thead>\n",
       "  <tbody>\n",
       "    <tr>\n",
       "      <th>0</th>\n",
       "      <td>KNN</td>\n",
       "      <td>0.541667</td>\n",
       "      <td>0.127584</td>\n",
       "    </tr>\n",
       "    <tr>\n",
       "      <th>1</th>\n",
       "      <td>Random Forest</td>\n",
       "      <td>0.556667</td>\n",
       "      <td>0.122543</td>\n",
       "    </tr>\n",
       "    <tr>\n",
       "      <th>2</th>\n",
       "      <td>Gradient Boost</td>\n",
       "      <td>0.470000</td>\n",
       "      <td>0.106177</td>\n",
       "    </tr>\n",
       "  </tbody>\n",
       "</table>\n",
       "</div>"
      ],
      "text/plain": [
       "        Algorithm  ROC-AUC test score  ROC-AUC test std\n",
       "0             KNN            0.541667          0.127584\n",
       "1   Random Forest            0.556667          0.122543\n",
       "2  Gradient Boost            0.470000          0.106177"
      ]
     },
     "execution_count": 59,
     "metadata": {},
     "output_type": "execute_result"
    }
   ],
   "source": [
    "myLabels = [ 'KNN','Random Forest','Gradient Boost']\n",
    "score_test= [  cv_scores_knn_test,cv_scores_rf_test,cv_scores_gb_test]\n",
    "#score_train= [  cv_scores_knn_train,cv_scores_rf_train,cv_scores_gb_train]\n",
    "std_test= [ cv_scores_std_knn,cv_scores_std_rf,cv_scores_std_gb]\n",
    "\n",
    "#score_tab_acc = pd.DataFrame(list(zip(myLabels, Accuracy_score)), \n",
    "               #columns =['Algorithm', 'Model accuracy score']) \n",
    "\n",
    "score_tab = pd.DataFrame(list(zip(myLabels, score_test, std_test)), \n",
    "               columns =['Algorithm',  'ROC-AUC test score',  'ROC-AUC test std']) \n",
    "#print(score_tab_acc)\n",
    "\n",
    "score_tab"
   ]
  },
  {
   "cell_type": "markdown",
   "id": "049ed7ca",
   "metadata": {},
   "source": [
    "### Run the model on the full set"
   ]
  },
  {
   "cell_type": "code",
   "execution_count": 60,
   "id": "c3be502f",
   "metadata": {},
   "outputs": [],
   "source": [
    "#Final prediction RF:\n",
    "y_preds_rf = rf.predict(X)\n",
    "target = pd.Series(y_preds_rf, name='Overperform')\n",
    "ticker = df['Ticker']\n",
    "year = df['Year']\n",
    "actual = df['overperform']\n",
    "prod_type = df['Product_type']\n",
    "rateofreturn = df_raw['return']\n",
    "output = pd.DataFrame(list(zip(ticker, year, prod_type, target, actual, rateofreturn,)), \n",
    "               columns =['Ticker', 'Year', 'Product Type', 'Overperform', 'Actual', 'Return']) \n",
    "\n",
    "\n",
    "\n",
    "\n",
    "output.to_csv('final_result_rf.csv', index=False, header=True)"
   ]
  },
  {
   "cell_type": "code",
   "execution_count": 61,
   "id": "84f3f651",
   "metadata": {},
   "outputs": [
    {
     "name": "stdout",
     "output_type": "stream",
     "text": [
      "      Ticker  Product Type  Overperform  Actual  Return\n",
      "Year                                                   \n",
      "1993       2             2            2       2       2\n",
      "1997       3             3            3       3       3\n",
      "1998       3             3            3       3       3\n",
      "1999       2             2            2       2       2\n",
      "2000       1             1            1       1       1\n",
      "2001       1             1            1       1       1\n",
      "2002       1             1            1       1       1\n",
      "2004       2             2            2       2       2\n",
      "2005       1             1            1       1       1\n",
      "2006       1             1            1       1       1\n",
      "2008       2             2            2       2       2\n",
      "2009       4             4            4       4       4\n",
      "2010       5             5            5       5       5\n",
      "2011       1             1            1       1       1\n",
      "2012       1             1            1       1       1\n",
      "2013       2             2            2       2       2\n",
      "2015       8             8            8       8       8\n",
      "2017       5             5            5       5       5\n",
      "2018       7             7            7       7       7\n",
      "2019       4             4            4       4       4\n",
      "2020       2             2            2       2       2\n",
      "              Ticker  Year  Overperform  Actual  Return\n",
      "Product Type                                           \n",
      "Alcohol            3     3            3       3       3\n",
      "Car               10    10           10      10      10\n",
      "Film              17    17           17      17      17\n",
      "Food               6     6            6       6       6\n",
      "Goods              5     5            5       5       5\n",
      "Service            3     3            3       3       3\n",
      "Soft drink         2     2            2       2       2\n",
      "TV                 3     3            3       3       3\n",
      "Technology         1     1            1       1       1\n",
      "Website            5     5            5       5       5\n",
      "Wireless           3     3            3       3       3\n"
     ]
    }
   ],
   "source": [
    "# Model predicts incorrectly\n",
    "print(output[output['Overperform']!=output['Actual']].groupby('Year').count())\n",
    "print(output[output['Overperform']!=output['Actual']].groupby('Product Type').count())"
   ]
  },
  {
   "cell_type": "code",
   "execution_count": 62,
   "id": "202948b0",
   "metadata": {},
   "outputs": [
    {
     "name": "stdout",
     "output_type": "stream",
     "text": [
      "      Ticker  Product Type  Overperform  Actual  Return\n",
      "Year                                                   \n",
      "1984       1             1            1       1       1\n",
      "1988       1             1            1       1       1\n",
      "1990       2             2            2       2       2\n",
      "1992       1             1            1       1       1\n",
      "1993       2             2            2       2       2\n",
      "1996       1             1            1       1       1\n",
      "1997       1             1            1       1       1\n",
      "1998       7             7            7       7       7\n",
      "1999       6             6            6       6       6\n",
      "2000       7             7            7       7       7\n",
      "2001       5             5            5       5       5\n",
      "2002       5             5            5       5       5\n",
      "2003       4             4            4       4       4\n",
      "2004       4             4            4       4       4\n",
      "2005       8             8            8       8       8\n",
      "2006       2             2            2       2       2\n",
      "2008       5             5            5       5       5\n",
      "2009       4             4            4       4       4\n",
      "2010      11            11           11      11      11\n",
      "2011       7             7            7       7       7\n",
      "2012       6             6            6       6       6\n",
      "2013       2             2            2       2       2\n",
      "2014       4             4            4       4       4\n",
      "2015      19            19           19      19      19\n",
      "2016      10            10           10      10      10\n",
      "2017      10            10           10      10      10\n",
      "2018      18            18           18      18      18\n",
      "2019      11            11           11      11      11\n",
      "2020      10            10           10      10      10\n",
      "              Ticker  Year  Overperform  Actual  Return\n",
      "Product Type                                           \n",
      "Alcohol           10    10           10      10      10\n",
      "Car               29    29           29      29      29\n",
      "Clothing           6     6            6       6       6\n",
      "Film              43    43           43      43      43\n",
      "Food              27    27           27      27      27\n",
      "Gaming             1     1            1       1       1\n",
      "Goods             12    12           12      12      12\n",
      "Service           11    11           11      11      11\n",
      "Soft drink         9     9            9       9       9\n",
      "TV                 4     4            4       4       4\n",
      "Technology         5     5            5       5       5\n",
      "Website           11    11           11      11      11\n",
      "Wireless           6     6            6       6       6\n"
     ]
    }
   ],
   "source": [
    "# Model predicts correctly\n",
    "print(output[output['Overperform'] == output['Actual']].groupby('Year').count())\n",
    "print(output[output['Overperform'] == output['Actual']].groupby('Product Type').count())"
   ]
  },
  {
   "cell_type": "code",
   "execution_count": 63,
   "id": "99117db2",
   "metadata": {},
   "outputs": [
    {
     "name": "stdout",
     "output_type": "stream",
     "text": [
      "      Ticker  Product Type  Overperform  Actual  Return\n",
      "Year                                                   \n",
      "2009       3             3            3       3       3\n",
      "2010       5             5            5       5       5\n",
      "2012       1             1            1       1       1\n",
      "2015       4             4            4       4       4\n",
      "2019       1             1            1       1       1\n",
      "              Ticker  Year  Overperform  Actual  Return\n",
      "Product Type                                           \n",
      "Alcohol            1     1            1       1       1\n",
      "Car                1     1            1       1       1\n",
      "Film               3     3            3       3       3\n",
      "Food               1     1            1       1       1\n",
      "Goods              3     3            3       3       3\n",
      "Service            2     2            2       2       2\n",
      "TV                 1     1            1       1       1\n",
      "Website            2     2            2       2       2\n"
     ]
    }
   ],
   "source": [
    "#  model falsely predicts overperformance\n",
    "print(output[(output['Actual']==0) & (output['Overperform']==1)].groupby('Year').count())\n",
    "print(output[(output['Actual']==0) & (output['Overperform']==1)].groupby('Product Type').count())"
   ]
  },
  {
   "cell_type": "code",
   "execution_count": 64,
   "id": "ea235fb1",
   "metadata": {},
   "outputs": [
    {
     "name": "stdout",
     "output_type": "stream",
     "text": [
      "      Ticker  Product Type  Overperform  Actual  Return\n",
      "Year                                                   \n",
      "1993       2             2            2       2       2\n",
      "1997       3             3            3       3       3\n",
      "1998       3             3            3       3       3\n",
      "1999       2             2            2       2       2\n",
      "2000       1             1            1       1       1\n",
      "2001       1             1            1       1       1\n",
      "2002       1             1            1       1       1\n",
      "2004       2             2            2       2       2\n",
      "2005       1             1            1       1       1\n",
      "2006       1             1            1       1       1\n",
      "2008       2             2            2       2       2\n",
      "2009       1             1            1       1       1\n",
      "2011       1             1            1       1       1\n",
      "2013       2             2            2       2       2\n",
      "2015       4             4            4       4       4\n",
      "2017       5             5            5       5       5\n",
      "2018       7             7            7       7       7\n",
      "2019       3             3            3       3       3\n",
      "2020       2             2            2       2       2\n",
      "              Ticker  Year  Overperform  Actual  Return\n",
      "Product Type                                           \n",
      "Alcohol            2     2            2       2       2\n",
      "Car                9     9            9       9       9\n",
      "Film              14    14           14      14      14\n",
      "Food               5     5            5       5       5\n",
      "Goods              2     2            2       2       2\n",
      "Service            1     1            1       1       1\n",
      "Soft drink         2     2            2       2       2\n",
      "TV                 2     2            2       2       2\n",
      "Technology         1     1            1       1       1\n",
      "Website            3     3            3       3       3\n",
      "Wireless           3     3            3       3       3\n"
     ]
    }
   ],
   "source": [
    "# model fails to predict actual overperformance\n",
    "print(output[(output['Actual']==1) & (output['Overperform']==0)].groupby('Year').count())\n",
    "print(output[(output['Actual']==1) & (output['Overperform']==0)].groupby('Product Type').count())"
   ]
  },
  {
   "cell_type": "code",
   "execution_count": 65,
   "id": "da45e4fe",
   "metadata": {},
   "outputs": [
    {
     "data": {
      "text/plain": [
       "array([[117,  14],\n",
       "       [ 44,  57]], dtype=int64)"
      ]
     },
     "execution_count": 65,
     "metadata": {},
     "output_type": "execute_result"
    }
   ],
   "source": [
    "confusion_matrix(y , y_preds_rf)"
   ]
  },
  {
   "cell_type": "code",
   "execution_count": 66,
   "id": "9dc6ca44",
   "metadata": {},
   "outputs": [
    {
     "name": "stdout",
     "output_type": "stream",
     "text": [
      "              precision    recall  f1-score   support\n",
      "\n",
      "           0       0.73      0.89      0.80       131\n",
      "           1       0.80      0.56      0.66       101\n",
      "\n",
      "    accuracy                           0.75       232\n",
      "   macro avg       0.76      0.73      0.73       232\n",
      "weighted avg       0.76      0.75      0.74       232\n",
      "\n"
     ]
    }
   ],
   "source": [
    "print(classification_report(y, y_preds_rf))"
   ]
  },
  {
   "cell_type": "code",
   "execution_count": 67,
   "id": "954212f9",
   "metadata": {},
   "outputs": [
    {
     "name": "stdout",
     "output_type": "stream",
     "text": [
      "              precision    recall  f1-score   support\n",
      "\n",
      "           0       0.61      0.81      0.70        27\n",
      "           1       0.55      0.30      0.39        20\n",
      "\n",
      "    accuracy                           0.60        47\n",
      "   macro avg       0.58      0.56      0.54        47\n",
      "weighted avg       0.58      0.60      0.57        47\n",
      "\n"
     ]
    },
    {
     "data": {
      "text/plain": [
       "array([[22,  5],\n",
       "       [14,  6]], dtype=int64)"
      ]
     },
     "execution_count": 67,
     "metadata": {},
     "output_type": "execute_result"
    }
   ],
   "source": [
    "# test classification report\n",
    "y_preds_rf_test = rf.predict(X_test)\n",
    "print(classification_report(y_test, y_preds_rf_test))\n",
    "confusion_matrix(y_test, y_preds_rf_test)"
   ]
  },
  {
   "cell_type": "code",
   "execution_count": 68,
   "id": "4740041f",
   "metadata": {},
   "outputs": [],
   "source": [
    "y_scores_rf_full = rf.predict_proba(X)\n",
    "y_scores_rf_full = y_scores_rf_full[:,1]"
   ]
  },
  {
   "cell_type": "code",
   "execution_count": 69,
   "id": "5403c43a",
   "metadata": {},
   "outputs": [
    {
     "data": {
      "text/plain": [
       "<Figure size 1000x500 with 0 Axes>"
      ]
     },
     "metadata": {},
     "output_type": "display_data"
    },
    {
     "data": {
      "image/png": "[encoded data removed]",
      "text/plain": [
       "<Figure size 640x480 with 1 Axes>"
      ]
     },
     "metadata": {},
     "output_type": "display_data"
    }
   ],
   "source": [
    "precision, recall, thresholds = precision_recall_curve(y, y_scores_rf_full)\n",
    "def plot_pr_curve(precision, recall, label=None):\n",
    "    #create precision recall curve\n",
    "    fig, ax = plt.subplots()\n",
    "    ax.plot(recall, precision, color='purple')\n",
    "\n",
    "    #add axis labels to plot\n",
    "    ax.set_title('Precision-Recall Curve')\n",
    "    ax.set_ylabel('Precision')\n",
    "    ax.set_xlabel('Recall')\n",
    "\n",
    "\n",
    "\n",
    "\n",
    "plt.figure(figsize=(10, 5))\n",
    "plot_pr_curve(precision, recall)\n",
    "plt.savefig(\"pr_rf.png\")\n",
    "plt.show()"
   ]
  },
  {
   "cell_type": "code",
   "execution_count": 70,
   "id": "a4b7d6b1",
   "metadata": {
    "scrolled": true
   },
   "outputs": [
    {
     "data": {
      "image/png": "[encoded data removed]",
      "text/plain": [
       "<Figure size 1000x500 with 1 Axes>"
      ]
     },
     "metadata": {},
     "output_type": "display_data"
    }
   ],
   "source": [
    "false_positive_rate, true_positive_rate, thresholds = roc_curve(y, y_scores_rf_full)\n",
    "\n",
    "plt.figure(figsize=(10, 5))\n",
    "plot_roc_curve(false_positive_rate, true_positive_rate)\n",
    "plt.title('Full ROC curve(RF)',fontsize=15)\n",
    "plt.savefig(\"rf_full_aoc.png\")\n",
    "plt.show()"
   ]
  },
  {
   "cell_type": "code",
   "execution_count": 71,
   "id": "ec5572ad",
   "metadata": {},
   "outputs": [],
   "source": [
    "pd.set_option('display.precision', 4)"
   ]
  },
  {
   "cell_type": "code",
   "execution_count": 72,
   "id": "527ed55d",
   "metadata": {
    "scrolled": true
   },
   "outputs": [
    {
     "name": "stdout",
     "output_type": "stream",
     "text": [
      "Year\n",
      "1984   -0.1538\n",
      "1988    0.1022\n",
      "1990   -0.1466\n",
      "1992    0.1028\n",
      "1993   -0.0669\n",
      "1996   -0.0893\n",
      "1997    0.2665\n",
      "1998    0.1416\n",
      "1999   -0.0128\n",
      "2000   -0.4469\n",
      "2001   -0.1605\n",
      "2002   -0.1612\n",
      "2003    0.0953\n",
      "2004   -0.0112\n",
      "2005   -0.0856\n",
      "2006   -0.0599\n",
      "2008   -0.1623\n",
      "2009    0.2864\n",
      "2010    0.1484\n",
      "2011   -0.2123\n",
      "2012    0.0752\n",
      "2013    0.2774\n",
      "2014    0.1819\n",
      "2015    0.1178\n",
      "2016    0.1120\n",
      "2017    0.1216\n",
      "2018    0.0475\n",
      "2019    0.0552\n",
      "2020   -0.0783\n",
      "Name: Return, dtype: float64\n",
      "Year\n",
      "1988    0.1022\n",
      "1992    0.1028\n",
      "1999    0.0515\n",
      "2001    0.2441\n",
      "2002   -0.0134\n",
      "2003    0.2616\n",
      "2004    0.0655\n",
      "2008   -0.0224\n",
      "2009    0.2860\n",
      "2010    0.1564\n",
      "2011   -0.0495\n",
      "2012    0.1392\n",
      "2013    0.2595\n",
      "2014    0.2228\n",
      "2015    0.2265\n",
      "2016    0.2461\n",
      "2017    0.1915\n",
      "2018    0.3161\n",
      "2019    0.1006\n",
      "Name: Return, dtype: float64\n",
      "<pandas.core.groupby.generic.SeriesGroupBy object at 0x000001828F18D4F0>\n"
     ]
    }
   ],
   "source": [
    "# Create comparison of returns \n",
    "# first find the return of picking all the advertisers\n",
    "dummy_ave_ret = output['Return'].groupby(output['Year']).mean()\n",
    "print(dummy_ave_ret)\n",
    "# use the model\n",
    "model_ave_ret = output['Return'][output['Overperform']==1].groupby(output['Year']).mean()\n",
    "print(model_ave_ret)\n",
    "sandp_ave_ret = df_raw['SP_return'].groupby(df_raw['Year'])\n",
    "print(sandp_ave_ret)"
   ]
  },
  {
   "cell_type": "code",
   "execution_count": 73,
   "id": "7489f8a2",
   "metadata": {},
   "outputs": [
    {
     "name": "stdout",
     "output_type": "stream",
     "text": [
      "Year\n",
      "1984    0.1365\n",
      "1988   -0.2104\n",
      "1990    0.0933\n",
      "1992   -0.0064\n",
      "1993    0.0172\n",
      "1996    0.0107\n",
      "1997    0.2241\n",
      "1998    0.1989\n",
      "1999    0.0432\n",
      "2000    0.0261\n",
      "2001   -0.1170\n",
      "2002   -0.2374\n",
      "2003    0.1759\n",
      "2004   -0.0252\n",
      "2005    0.0178\n",
      "2006    0.0085\n",
      "2008   -0.0955\n",
      "2009    0.2147\n",
      "2010    0.0672\n",
      "2011   -0.1513\n",
      "2012    0.0371\n",
      "2013    0.1414\n",
      "2014    0.1132\n",
      "2015    0.0382\n",
      "2016    0.1767\n",
      "2017    0.0822\n",
      "2018    0.0761\n",
      "2019    0.0440\n",
      "2020    0.0141\n",
      "Name: SP_return, dtype: float64\n"
     ]
    }
   ],
   "source": [
    "sandp_ave_ret = df_raw['SP_return'].groupby(df_raw['Year']).mean()\n",
    "print(sandp_ave_ret)"
   ]
  },
  {
   "cell_type": "code",
   "execution_count": 74,
   "id": "d34dc193",
   "metadata": {
    "scrolled": true
   },
   "outputs": [],
   "source": [
    "new = pd.DataFrame(list(zip(dummy_ave_ret, sandp_ave_ret)), \n",
    "               columns =[ 'Pick All', 'S and P'], index=dummy_ave_ret.index) \n",
    "model_df = pd.DataFrame(list(zip(model_ave_ret)), \n",
    "               columns =['Model'], index=model_ave_ret.index) \n",
    "return_results = new.merge(model_df, left_index=True, right_index=True, how='left')\n",
    "return_results['Model-PickAll'] = return_results['Model']-return_results['Pick All']\n",
    "return_results['Model-SP'] = return_results['Model']-return_results['S and P']\n",
    "return_results['PickAll-SP'] = return_results['Pick All']-return_results['S and P']"
   ]
  },
  {
   "cell_type": "code",
   "execution_count": 75,
   "id": "1f58de2a",
   "metadata": {},
   "outputs": [
    {
     "name": "stdout",
     "output_type": "stream",
     "text": [
      "The average return of the model is : 15.19%\n",
      "The average return of the S & P those years is : 1.93%\n",
      "The average return of the Pick All those years is : 5.28%\n"
     ]
    }
   ],
   "source": [
    "print('The average return of the model is : {:.2%}'.format(return_results['Model'].mean()))\n",
    "print('The average return of the S & P those years is : {:.2%}'.format(return_results[return_results['Model'].notna()]['S and P'].mean()))\n",
    "print('The average return of the Pick All those years is : {:.2%}'.format(return_results[return_results['Model'].notna()]['Pick All'].mean()))"
   ]
  },
  {
   "cell_type": "code",
   "execution_count": 76,
   "id": "8ad6bac8",
   "metadata": {},
   "outputs": [
    {
     "data": {
      "text/html": [
       "<div>\n",
       "<style scoped>\n",
       "    .dataframe tbody tr th:only-of-type {\n",
       "        vertical-align: middle;\n",
       "    }\n",
       "\n",
       "    .dataframe tbody tr th {\n",
       "        vertical-align: top;\n",
       "    }\n",
       "\n",
       "    .dataframe thead th {\n",
       "        text-align: right;\n",
       "    }\n",
       "</style>\n",
       "<table border=\"1\" class=\"dataframe\">\n",
       "  <thead>\n",
       "    <tr style=\"text-align: right;\">\n",
       "      <th></th>\n",
       "      <th>Pick All</th>\n",
       "      <th>S and P</th>\n",
       "      <th>Model</th>\n",
       "      <th>Model-PickAll</th>\n",
       "      <th>Model-SP</th>\n",
       "      <th>PickAll-SP</th>\n",
       "    </tr>\n",
       "    <tr>\n",
       "      <th>Year</th>\n",
       "      <th></th>\n",
       "      <th></th>\n",
       "      <th></th>\n",
       "      <th></th>\n",
       "      <th></th>\n",
       "      <th></th>\n",
       "    </tr>\n",
       "  </thead>\n",
       "  <tbody>\n",
       "    <tr>\n",
       "      <th>2009</th>\n",
       "      <td>0.2864</td>\n",
       "      <td>0.2147</td>\n",
       "      <td>0.2860</td>\n",
       "      <td>-0.0004</td>\n",
       "      <td>0.0713</td>\n",
       "      <td>0.0718</td>\n",
       "    </tr>\n",
       "    <tr>\n",
       "      <th>2013</th>\n",
       "      <td>0.2774</td>\n",
       "      <td>0.1414</td>\n",
       "      <td>0.2595</td>\n",
       "      <td>-0.0179</td>\n",
       "      <td>0.1182</td>\n",
       "      <td>0.1360</td>\n",
       "    </tr>\n",
       "  </tbody>\n",
       "</table>\n",
       "</div>"
      ],
      "text/plain": [
       "      Pick All  S and P   Model  Model-PickAll  Model-SP  PickAll-SP\n",
       "Year                                                                \n",
       "2009    0.2864   0.2147  0.2860        -0.0004    0.0713      0.0718\n",
       "2013    0.2774   0.1414  0.2595        -0.0179    0.1182      0.1360"
      ]
     },
     "execution_count": 76,
     "metadata": {},
     "output_type": "execute_result"
    }
   ],
   "source": [
    "# model does not beat pick all\n",
    "return_results[return_results['Model-PickAll']<0]"
   ]
  },
  {
   "cell_type": "code",
   "execution_count": 77,
   "id": "9d7e4318",
   "metadata": {},
   "outputs": [
    {
     "data": {
      "text/html": [
       "<div>\n",
       "<style scoped>\n",
       "    .dataframe tbody tr th:only-of-type {\n",
       "        vertical-align: middle;\n",
       "    }\n",
       "\n",
       "    .dataframe tbody tr th {\n",
       "        vertical-align: top;\n",
       "    }\n",
       "\n",
       "    .dataframe thead th {\n",
       "        text-align: right;\n",
       "    }\n",
       "</style>\n",
       "<table border=\"1\" class=\"dataframe\">\n",
       "  <thead>\n",
       "    <tr style=\"text-align: right;\">\n",
       "      <th></th>\n",
       "      <th>Pick All</th>\n",
       "      <th>S and P</th>\n",
       "      <th>Model</th>\n",
       "      <th>Model-PickAll</th>\n",
       "      <th>Model-SP</th>\n",
       "      <th>PickAll-SP</th>\n",
       "    </tr>\n",
       "    <tr>\n",
       "      <th>Year</th>\n",
       "      <th></th>\n",
       "      <th></th>\n",
       "      <th></th>\n",
       "      <th></th>\n",
       "      <th></th>\n",
       "      <th></th>\n",
       "    </tr>\n",
       "  </thead>\n",
       "  <tbody>\n",
       "  </tbody>\n",
       "</table>\n",
       "</div>"
      ],
      "text/plain": [
       "Empty DataFrame\n",
       "Columns: [Pick All, S and P, Model, Model-PickAll, Model-SP, PickAll-SP]\n",
       "Index: []"
      ]
     },
     "execution_count": 77,
     "metadata": {},
     "output_type": "execute_result"
    }
   ],
   "source": [
    "# model does not beat S and P\n",
    "return_results[return_results['Model-SP']<0]"
   ]
  },
  {
   "cell_type": "code",
   "execution_count": 78,
   "id": "fcd1c2eb",
   "metadata": {},
   "outputs": [
    {
     "name": "stdout",
     "output_type": "stream",
     "text": [
      "The model beat picking all the stocks by 5 percentage points  12  times\n"
     ]
    }
   ],
   "source": [
    "# model beats pickall by 10 %age points\n",
    "print('The model beat picking all the stocks by 5 percentage points ', return_results[return_results['Model-PickAll'] > .05].Model.count(), ' times')"
   ]
  },
  {
   "cell_type": "code",
   "execution_count": 79,
   "id": "8f42eb6f",
   "metadata": {},
   "outputs": [
    {
     "name": "stdout",
     "output_type": "stream",
     "text": [
      "The model beat the S & P 500 by 5 percentage points  18  times.\n"
     ]
    }
   ],
   "source": [
    "print('The model beat the S & P 500 by 5 percentage points ' , return_results[return_results['Model-SP']> .05].Model.count(), ' times.')"
   ]
  },
  {
   "cell_type": "code",
   "execution_count": 80,
   "id": "efdf5b58",
   "metadata": {},
   "outputs": [
    {
     "name": "stdout",
     "output_type": "stream",
     "text": [
      "The model did not predict any overperformers in these years  [1984, 1990, 1993, 1996, 1997, 1998, 2000, 2005, 2006, 2020]\n"
     ]
    }
   ],
   "source": [
    "print('The model did not predict any overperformers in these years ',list(return_results[return_results['Model'].isna()].index))"
   ]
  },
  {
   "cell_type": "code",
   "execution_count": 81,
   "id": "6adad925",
   "metadata": {
    "scrolled": true
   },
   "outputs": [
    {
     "data": {
      "text/html": [
       "<style type=\"text/css\">\n",
       "</style>\n",
       "<table id=\"T_00f61\">\n",
       "  <thead>\n",
       "    <tr>\n",
       "      <th class=\"blank level0\" >&nbsp;</th>\n",
       "      <th id=\"T_00f61_level0_col0\" class=\"col_heading level0 col0\" >S and P</th>\n",
       "      <th id=\"T_00f61_level0_col1\" class=\"col_heading level0 col1\" >Pick All</th>\n",
       "      <th id=\"T_00f61_level0_col2\" class=\"col_heading level0 col2\" >PickAll-SP</th>\n",
       "    </tr>\n",
       "    <tr>\n",
       "      <th class=\"index_name level0\" >Year</th>\n",
       "      <th class=\"blank col0\" >&nbsp;</th>\n",
       "      <th class=\"blank col1\" >&nbsp;</th>\n",
       "      <th class=\"blank col2\" >&nbsp;</th>\n",
       "    </tr>\n",
       "  </thead>\n",
       "  <tbody>\n",
       "    <tr>\n",
       "      <th id=\"T_00f61_level0_row0\" class=\"row_heading level0 row0\" >2000</th>\n",
       "      <td id=\"T_00f61_row0_col0\" class=\"data row0 col0\" >2.6%</td>\n",
       "      <td id=\"T_00f61_row0_col1\" class=\"data row0 col1\" >-44.7%</td>\n",
       "      <td id=\"T_00f61_row0_col2\" class=\"data row0 col2\" >-47.3%</td>\n",
       "    </tr>\n",
       "    <tr>\n",
       "      <th id=\"T_00f61_level0_row1\" class=\"row_heading level0 row1\" >2005</th>\n",
       "      <td id=\"T_00f61_row1_col0\" class=\"data row1 col0\" >1.8%</td>\n",
       "      <td id=\"T_00f61_row1_col1\" class=\"data row1 col1\" >-8.6%</td>\n",
       "      <td id=\"T_00f61_row1_col2\" class=\"data row1 col2\" >-10.3%</td>\n",
       "    </tr>\n",
       "    <tr>\n",
       "      <th id=\"T_00f61_level0_row2\" class=\"row_heading level0 row2\" >2006</th>\n",
       "      <td id=\"T_00f61_row2_col0\" class=\"data row2 col0\" >0.8%</td>\n",
       "      <td id=\"T_00f61_row2_col1\" class=\"data row2 col1\" >-6.0%</td>\n",
       "      <td id=\"T_00f61_row2_col2\" class=\"data row2 col2\" >-6.8%</td>\n",
       "    </tr>\n",
       "    <tr>\n",
       "      <th id=\"T_00f61_level0_row3\" class=\"row_heading level0 row3\" >2020</th>\n",
       "      <td id=\"T_00f61_row3_col0\" class=\"data row3 col0\" >1.4%</td>\n",
       "      <td id=\"T_00f61_row3_col1\" class=\"data row3 col1\" >-7.8%</td>\n",
       "      <td id=\"T_00f61_row3_col2\" class=\"data row3 col2\" >-9.2%</td>\n",
       "    </tr>\n",
       "  </tbody>\n",
       "</table>\n"
      ],
      "text/plain": [
       "<pandas.io.formats.style.Styler at 0x1828fa1ab20>"
      ]
     },
     "execution_count": 81,
     "metadata": {},
     "output_type": "execute_result"
    }
   ],
   "source": [
    "return_results[(return_results['Model'].isna()) & (return_results.index > 1998)][['S and P', 'Pick All', 'PickAll-SP']].style.format({'S and P': \"{:.1%}\", 'Pick All': \"{:.1%}\", 'PickAll-SP': \"{:.1%}\"})"
   ]
  },
  {
   "cell_type": "code",
   "execution_count": 82,
   "id": "a4d71444",
   "metadata": {},
   "outputs": [],
   "source": [
    "pickall_beats_sp = return_results[return_results['PickAll-SP']>0]['Pick All'].count()\n",
    "pickall_loses_sp = return_results[return_results['PickAll-SP']<0]['Pick All'].count()\n",
    "total_years = pickall_beats_sp + pickall_loses_sp"
   ]
  },
  {
   "cell_type": "code",
   "execution_count": null,
   "id": "a1f5fd6a",
   "metadata": {},
   "outputs": [],
   "source": []
  },
  {
   "cell_type": "code",
   "execution_count": null,
   "id": "52a02088",
   "metadata": {
    "scrolled": true
   },
   "outputs": [],
   "source": [
    "print('The original idea of picking all the Super Bowl Advervisors only beats the S & P 500 ', pickall_beats_sp, ' out of ', total_years ,' years.')"
   ]
  },
  {
   "cell_type": "code",
   "execution_count": 84,
   "id": "f35c8e67",
   "metadata": {},
   "outputs": [
    {
     "data": {
      "image/png": "[encoded data removed]",
      "text/plain": [
       "<Figure size 640x480 with 1 Axes>"
      ]
     },
     "metadata": {},
     "output_type": "display_data"
    }
   ],
   "source": [
    "# bar graph of PickAll - SP\n",
    "colors = ['g' if e >= 0 else 'r' for e in return_results[return_results.index > 1998]['PickAll-SP']]\n",
    "ax = return_results[return_results.index > 1998]['PickAll-SP'].plot.bar(color=colors)\n",
    "ax.set_title(\"Returns: Pick All - SP\", color='b')\n",
    "ax.figure.tight_layout()"
   ]
  },
  {
   "cell_type": "code",
   "execution_count": 85,
   "id": "7b431196",
   "metadata": {},
   "outputs": [],
   "source": [
    "return_results1 = return_results[(return_results.index > 1998) &  (return_results['Model'].notna())]"
   ]
  },
  {
   "cell_type": "code",
   "execution_count": 86,
   "id": "21fcd264",
   "metadata": {
    "scrolled": true
   },
   "outputs": [
    {
     "data": {
      "image/png": "[encoded data removed]",
      "text/plain": [
       "<Figure size 640x480 with 1 Axes>"
      ]
     },
     "metadata": {},
     "output_type": "display_data"
    }
   ],
   "source": [
    "# bar graph of Model - SP\n",
    "ax = return_results1[['Model-SP', 'Model-PickAll']].plot.bar(color=['b','r'])\n",
    "ax.set_title(\"Returns: Model vs Pick All and S & P\", c='g')\n",
    "ax.figure.tight_layout()"
   ]
  },
  {
   "cell_type": "code",
   "execution_count": null,
   "id": "be34ed4b",
   "metadata": {},
   "outputs": [],
   "source": []
  }
 ],
 "metadata": {
  "kernelspec": {
   "display_name": "Python [conda env:snakes]",
   "language": "python",
   "name": "conda-env-snakes-py"
  },
  "language_info": {
   "codemirror_mode": {
    "name": "ipython",
    "version": 3
   },
   "file_extension": ".py",
   "mimetype": "text/x-python",
   "name": "python",
   "nbconvert_exporter": "python",
   "pygments_lexer": "ipython3",
   "version": "3.9.16"
  }
 },
 "nbformat": 4,
 "nbformat_minor": 5
}
