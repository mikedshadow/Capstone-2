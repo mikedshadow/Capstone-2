{
 "cells": [
  {
   "cell_type": "code",
   "execution_count": 134,
   "id": "b11d6793",
   "metadata": {},
   "outputs": [],
   "source": [
    "#Import necessary packages \n",
    "import matplotlib.pyplot as plt\n",
    "import seaborn as sns\n",
    "import pandas as pd\n",
    "import numpy as np\n"
   ]
  },
  {
   "cell_type": "code",
   "execution_count": 135,
   "id": "1e0d402b",
   "metadata": {},
   "outputs": [],
   "source": [
    "# suppress future warnings\n",
    "import warnings\n",
    "warnings.simplefilter(action='ignore', category=FutureWarning)\n",
    "warnings.simplefilter(action='ignore', category=UserWarning)"
   ]
  },
  {
   "cell_type": "code",
   "execution_count": 136,
   "id": "500ec457",
   "metadata": {},
   "outputs": [],
   "source": [
    "# load the dataset\n",
    "df = pd.read_csv('df2.csv', index_col=0)"
   ]
  },
  {
   "cell_type": "code",
   "execution_count": 137,
   "id": "a083b999",
   "metadata": {},
   "outputs": [
    {
     "name": "stdout",
     "output_type": "stream",
     "text": [
      "(232, 16)\n"
     ]
    }
   ],
   "source": [
    "print(df.shape)"
   ]
  },
  {
   "cell_type": "code",
   "execution_count": 138,
   "id": "dfc3f065",
   "metadata": {},
   "outputs": [
    {
     "name": "stdout",
     "output_type": "stream",
     "text": [
      "<class 'pandas.core.frame.DataFrame'>\n",
      "Int64Index: 232 entries, 10 to 555\n",
      "Data columns (total 16 columns):\n",
      " #   Column           Non-Null Count  Dtype  \n",
      "---  ------           --------------  -----  \n",
      " 0   Year             232 non-null    int64  \n",
      " 1   Product_type     232 non-null    object \n",
      " 2   Ticker           232 non-null    object \n",
      " 3   close            232 non-null    float64\n",
      " 4   close_plus6      232 non-null    float64\n",
      " 5   market_cap_cur   232 non-null    float64\n",
      " 6   shares_out       232 non-null    float64\n",
      " 7   year_inc         232 non-null    float64\n",
      " 8   spx_close        232 non-null    float64\n",
      " 9   spx_plus6        232 non-null    float64\n",
      " 10  Previous_SBs     232 non-null    int64  \n",
      " 11  Yearly_Ad_Count  232 non-null    int64  \n",
      " 12  New              232 non-null    int64  \n",
      " 13  return           232 non-null    float64\n",
      " 14  SP_return        232 non-null    float64\n",
      " 15  overperform      232 non-null    int64  \n",
      "dtypes: float64(9), int64(5), object(2)\n",
      "memory usage: 30.8+ KB\n"
     ]
    }
   ],
   "source": [
    "df.info()"
   ]
  },
  {
   "cell_type": "markdown",
   "id": "92e47ee8",
   "metadata": {},
   "source": [
    "The null values have been taken care of already.\n",
    "\n",
    "There are several unnecessary varables `close`, `close_plus6`, `spx_close`, and `spx_plus6`.\n",
    "\n",
    "Both `return` and `SP_return` contain future information and also should be deleted from the model.\n"
   ]
  },
  {
   "cell_type": "code",
   "execution_count": 139,
   "id": "431461d2",
   "metadata": {
    "scrolled": true
   },
   "outputs": [
    {
     "name": "stdout",
     "output_type": "stream",
     "text": [
      "<class 'pandas.core.frame.DataFrame'>\n",
      "Int64Index: 232 entries, 10 to 555\n",
      "Data columns (total 10 columns):\n",
      " #   Column           Non-Null Count  Dtype  \n",
      "---  ------           --------------  -----  \n",
      " 0   Year             232 non-null    int64  \n",
      " 1   Product_type     232 non-null    object \n",
      " 2   Ticker           232 non-null    object \n",
      " 3   market_cap_cur   232 non-null    float64\n",
      " 4   shares_out       232 non-null    float64\n",
      " 5   year_inc         232 non-null    float64\n",
      " 6   Previous_SBs     232 non-null    int64  \n",
      " 7   Yearly_Ad_Count  232 non-null    int64  \n",
      " 8   New              232 non-null    int64  \n",
      " 9   overperform      232 non-null    int64  \n",
      "dtypes: float64(3), int64(5), object(2)\n",
      "memory usage: 19.9+ KB\n"
     ]
    }
   ],
   "source": [
    "df.drop(axis='columns' , columns=['close', 'close_plus6', 'spx_close', 'spx_plus6', 'return', 'SP_return' ], inplace=True)\n",
    "df.info()"
   ]
  },
  {
   "cell_type": "markdown",
   "id": "ff658561",
   "metadata": {},
   "source": []
  },
  {
   "cell_type": "code",
   "execution_count": null,
   "id": "d750aba7",
   "metadata": {},
   "outputs": [],
   "source": []
  },
  {
   "cell_type": "code",
   "execution_count": 140,
   "id": "25572af6",
   "metadata": {},
   "outputs": [],
   "source": [
    "from sklearn.preprocessing import StandardScaler, OneHotEncoder\n",
    "from sklearn.model_selection import train_test_split\n",
    "from sklearn.compose import ColumnTransformer\n",
    "from sklearn.pipeline import Pipeline\n",
    "from sklearn.linear_model import LogisticRegression\n",
    "from sklearn import metrics"
   ]
  },
  {
   "cell_type": "code",
   "execution_count": 141,
   "id": "250dbf71",
   "metadata": {},
   "outputs": [],
   "source": [
    "# Split the data\n",
    "X = df.drop('overperform',axis=1)\n",
    "y = df['overperform']\n",
    "\n",
    "X_train, X_test, y_train, y_test = train_test_split(X, y, test_size=0.2, random_state=714)\n"
   ]
  },
  {
   "cell_type": "code",
   "execution_count": 142,
   "id": "0c0d40ad",
   "metadata": {},
   "outputs": [],
   "source": [
    "# pick transformers\n",
    "numeric_transformer = Pipeline(steps=[('scaler', StandardScaler())\n",
    "])\n",
    "categorical_transformer = Pipeline(steps=[('encoder', OneHotEncoder(sparse=False, handle_unknown='ignore'))\n",
    "])"
   ]
  },
  {
   "cell_type": "code",
   "execution_count": 143,
   "id": "21161498",
   "metadata": {},
   "outputs": [],
   "source": [
    "# split columns into numeric and categorical\n",
    "numeric_features = ['Year', 'market_cap_cur', 'shares_out', 'year_inc', 'Previous_SBs', 'Yearly_Ad_Count','New']\n",
    "categorical_features = ['Product_type', 'Ticker']\n",
    "preprocessor = ColumnTransformer(\n",
    "   transformers=[\n",
    "    ('numeric', numeric_transformer, numeric_features)\n",
    "   ,('categorical', categorical_transformer, categorical_features)\n",
    "]) "
   ]
  },
  {
   "cell_type": "code",
   "execution_count": 144,
   "id": "b9126d54",
   "metadata": {},
   "outputs": [],
   "source": [
    "# define the pipeline\n",
    "pipeline = Pipeline(steps = [\n",
    "               ('preprocessor', preprocessor)\n",
    "              ,('regressor',LogisticRegression())\n",
    "           ])"
   ]
  },
  {
   "cell_type": "code",
   "execution_count": 145,
   "id": "75f7418d",
   "metadata": {},
   "outputs": [
    {
     "name": "stdout",
     "output_type": "stream",
     "text": [
      "Pipeline(steps=[('preprocessor',\n",
      "                 ColumnTransformer(transformers=[('numeric',\n",
      "                                                  Pipeline(steps=[('scaler',\n",
      "                                                                   StandardScaler())]),\n",
      "                                                  ['Year', 'market_cap_cur',\n",
      "                                                   'shares_out', 'year_inc',\n",
      "                                                   'Previous_SBs',\n",
      "                                                   'Yearly_Ad_Count', 'New']),\n",
      "                                                 ('categorical',\n",
      "                                                  Pipeline(steps=[('encoder',\n",
      "                                                                   OneHotEncoder(handle_unknown='ignore',\n",
      "                                                                                 sparse=False))]),\n",
      "                                                  ['Product_type',\n",
      "                                                   'Ticker'])])),\n",
      "                ('regressor', LogisticRegression())])\n"
     ]
    }
   ],
   "source": [
    "lr_model = pipeline.fit(X_train, y_train)\n",
    "print (lr_model)"
   ]
  },
  {
   "cell_type": "code",
   "execution_count": 147,
   "id": "80d2bfcc",
   "metadata": {
    "scrolled": true
   },
   "outputs": [
    {
     "name": "stdout",
     "output_type": "stream",
     "text": [
      "-0.6537037037037039\n"
     ]
    }
   ],
   "source": [
    "from sklearn.metrics import r2_score\n",
    "predictions = lr_model.predict(X_test)\n",
    "print (r2_score(y_test, predictions))"
   ]
  },
  {
   "cell_type": "code",
   "execution_count": 149,
   "id": "a89186e4",
   "metadata": {},
   "outputs": [
    {
     "name": "stdout",
     "output_type": "stream",
     "text": [
      "0.25\n"
     ]
    }
   ],
   "source": [
    "print (metrics.recall_score(y_test, predictions) )"
   ]
  },
  {
   "cell_type": "code",
   "execution_count": 150,
   "id": "c8a38a17",
   "metadata": {},
   "outputs": [
    {
     "name": "stdout",
     "output_type": "stream",
     "text": [
      "  |  0  1 |\n",
      "--+-------+\n",
      "0 |<23> 4 |\n",
      "1 | 15 <5>|\n",
      "--+-------+\n",
      "(row = reference; col = test)\n",
      "\n"
     ]
    }
   ],
   "source": [
    "from nltk import ConfusionMatrix \n",
    "print (ConfusionMatrix(list(y_test), list(predictions)))"
   ]
  },
  {
   "cell_type": "code",
   "execution_count": null,
   "id": "5bfb323a",
   "metadata": {},
   "outputs": [],
   "source": [
    "#ROC CURVES and AUC \n",
    "# plot ROC curve \n",
    "probs = pipeline.predict_proba(X)[:, 1]\n",
    "fpr, tpr, thresholds = metrics.roc_curve(y, probs) \n",
    "plt.plot(fpr, tpr) \n",
    "plt.xlim([0.0, 1.0]) \n",
    "plt.ylim([0.0, 1.0]) \n",
    "plt.xlabel('False Positive Rate') \n",
    "plt.ylabel('True Positive Rate)') \n",
    "plt.show()"
   ]
  },
  {
   "cell_type": "code",
   "execution_count": 151,
   "id": "992eb416",
   "metadata": {},
   "outputs": [
    {
     "name": "stdout",
     "output_type": "stream",
     "text": [
      "0.7743934698813393\n"
     ]
    }
   ],
   "source": [
    "# calculate AUC \n",
    "print (metrics.roc_auc_score(y, probs))\n"
   ]
  },
  {
   "cell_type": "code",
   "execution_count": null,
   "id": "bf65a6ea",
   "metadata": {},
   "outputs": [],
   "source": []
  }
 ],
 "metadata": {
  "kernelspec": {
   "display_name": "Python [conda env:snakes]",
   "language": "python",
   "name": "conda-env-snakes-py"
  },
  "language_info": {
   "codemirror_mode": {
    "name": "ipython",
    "version": 3
   },
   "file_extension": ".py",
   "mimetype": "text/x-python",
   "name": "python",
   "nbconvert_exporter": "python",
   "pygments_lexer": "ipython3",
   "version": "3.9.16"
  }
 },
 "nbformat": 4,
 "nbformat_minor": 5
}
